{
 "cells": [
  {
   "cell_type": "markdown",
   "metadata": {},
   "source": [
    "This final practical session is composed of 2 parts.\n",
    "<br> <br>\n",
    "In the first part, you will be guided to answer a classification problem on a credit default dataset. As a banker, your objective will be to use supervised algorithms to learn how to estimate a probability of default on the history of your clients, and then to predict this probability on a set of new clients.\n",
    "<br><br>\n",
    "In the second part you will get a dataset composed of XX points with XX features. Your objective will be to analyze this dataset to detect anomalies and report them. As there are no available labels, you will have to use unsupervised algorithms of your choice and compare the results of each method. Don't hesitate to be creative."
   ]
  },
  {
   "cell_type": "code",
   "execution_count": null,
   "metadata": {
    "ExecuteTime": {
     "end_time": "2020-04-08T19:45:36.036373Z",
     "start_time": "2020-04-08T19:45:33.168456Z"
    }
   },
   "outputs": [],
   "source": [
    "######### List of useful imports, don't hesitate to fill it with other packages #############\n",
    "\n",
    "import numpy as np\n",
    "import pandas as pd\n",
    "\n",
    "### Learning\n",
    "from sklearn.model_selection import train_test_split, GridSearchCV\n",
    "from sklearn.cluster import KMeans\n",
    "from sklearn.metrics.cluster import contingency_matrix\n",
    "from sklearn.metrics import confusion_matrix, roc_curve, auc\n",
    "\n",
    "from sklearn.neighbors import KNeighborsClassifier as KNN\n",
    "from sklearn.linear_model import LinearRegression as LinReg\n",
    "from sklearn.linear_model import LogisticRegression as LogReg\n",
    "from sklearn.tree import DecisionTreeClassifier\n",
    "from sklearn.svm import SVC\n",
    "from sklearn.decomposition import PCA\n",
    "from sklearn.manifold import TSNE\n",
    "from sklearn.cluster import SpectralClustering\n",
    "from sklearn.cluster import AgglomerativeClustering\n",
    "from scipy.cluster.hierarchy import linkage, fcluster, dendrogram\n",
    "#...\n",
    "\n",
    "### Visualization\n",
    "from mpl_toolkits.mplot3d import Axes3D\n",
    "import networkx as nx  # to play with graphs\n",
    "import graphviz\n",
    "from sklearn.tree import export_graphviz\n",
    "import matplotlib.pyplot as plt\n",
    "import seaborn as sns"
   ]
  },
  {
   "cell_type": "markdown",
   "metadata": {},
   "source": [
    "## Guidelines\n",
    "<br><br>\n",
    "This notebook is yours: feel free to add any cell, any function and any comment in addition to the answer of the questions and the functions already provided.\n",
    "<br><br>\n",
    "Your work will be evaluated on the basis of your answers in the 2 parts: credit default and anomaly detection (~50/50)\n",
    "<br><br>\n",
    "Make your code clean and well organized\n",
    "<br><br>\n",
    "Make clear and precise answers for the explicit questions. You will not only be evaluated on your code but also on your understanding of the methods and your interpretation of the results.\n",
    "<br><br>\n",
    "Your work is **individual**, but feel free to ask me any question about the guidelines on Discord. Also, you're highly encouraged to paste some functions we used in previous TP (in particular for visualization)."
   ]
  },
  {
   "cell_type": "markdown",
   "metadata": {},
   "source": [
    "# Credit Default Estimation"
   ]
  },
  {
   "cell_type": "code",
   "execution_count": null,
   "metadata": {
    "ExecuteTime": {
     "end_time": "2020-04-08T19:57:47.193858Z",
     "start_time": "2020-04-08T19:57:47.177131Z"
    }
   },
   "outputs": [],
   "source": [
    "train = pd.read_csv('german_credit_train.csv', index_col=0)\n",
    "test = pd.read_csv('german_credit_test.csv', index_col=0)"
   ]
  },
  {
   "cell_type": "code",
   "execution_count": null,
   "metadata": {
    "ExecuteTime": {
     "end_time": "2020-04-08T19:59:58.106127Z",
     "start_time": "2020-04-08T19:59:58.093801Z"
    }
   },
   "outputs": [],
   "source": [
    "y_train = train.Creditability\n",
    "y_test = test.Creditability\n",
    "\n",
    "X_train = train.iloc[:, 1:]\n",
    "X_test = test.iloc[:, 1:]"
   ]
  },
  {
   "cell_type": "markdown",
   "metadata": {
    "ExecuteTime": {
     "end_time": "2020-04-08T20:00:03.277064Z",
     "start_time": "2020-04-08T20:00:03.239272Z"
    }
   },
   "source": [
    "## Data Preparation and feature selection"
   ]
  },
  {
   "cell_type": "markdown",
   "metadata": {
    "ExecuteTime": {
     "end_time": "2020-04-08T20:00:11.930655Z",
     "start_time": "2020-04-08T20:00:11.912539Z"
    }
   },
   "source": [
    "*Question:* Try to understand the features in the dataset. Select some features that seem relevant to you and describe their nature and their distribution. If some variables don't seem relevant to you explain why and discard them."
   ]
  },
  {
   "cell_type": "code",
   "execution_count": null,
   "metadata": {
    "ExecuteTime": {
     "end_time": "2020-04-08T20:04:49.872269Z",
     "start_time": "2020-04-08T20:04:49.844911Z"
    }
   },
   "outputs": [],
   "source": []
  },
  {
   "cell_type": "code",
   "execution_count": null,
   "metadata": {},
   "outputs": [],
   "source": []
  },
  {
   "cell_type": "markdown",
   "metadata": {},
   "source": [
    "*Question:* Handle the categorical variables to make them suitable for the training. Make any transformation of the quantitative variables that seem relevant for you and explain your choice"
   ]
  },
  {
   "cell_type": "code",
   "execution_count": null,
   "metadata": {},
   "outputs": [],
   "source": []
  },
  {
   "cell_type": "code",
   "execution_count": null,
   "metadata": {},
   "outputs": [],
   "source": []
  },
  {
   "cell_type": "markdown",
   "metadata": {},
   "source": [
    "*Question:* Use the visualization tools of your choice to get first intuitions on the importance on the features in the prediction of our target variable. Explain your choice and interpret the figures.\n",
    "<br><br>\n",
    "**Requirements:** At least one categorical feature and one quantitative feature."
   ]
  },
  {
   "cell_type": "code",
   "execution_count": null,
   "metadata": {},
   "outputs": [],
   "source": []
  },
  {
   "cell_type": "code",
   "execution_count": null,
   "metadata": {},
   "outputs": [],
   "source": []
  },
  {
   "cell_type": "markdown",
   "metadata": {},
   "source": [
    "## First machine learning algorithms"
   ]
  },
  {
   "cell_type": "markdown",
   "metadata": {},
   "source": [
    "*Question*: Train at least 3 different supervised learning algorithms on the training set (without trying to optimize their hyperparameters). Explain your choice. Display relevant metrics on both the training and the test set. "
   ]
  },
  {
   "cell_type": "code",
   "execution_count": null,
   "metadata": {},
   "outputs": [],
   "source": []
  },
  {
   "cell_type": "code",
   "execution_count": null,
   "metadata": {},
   "outputs": [],
   "source": []
  },
  {
   "cell_type": "markdown",
   "metadata": {},
   "source": [
    "*Question:* Interpret your results. Compare the performance of each model on the train and test set, and the consistency between the two."
   ]
  },
  {
   "cell_type": "code",
   "execution_count": null,
   "metadata": {},
   "outputs": [],
   "source": []
  },
  {
   "cell_type": "code",
   "execution_count": null,
   "metadata": {},
   "outputs": [],
   "source": []
  },
  {
   "cell_type": "markdown",
   "metadata": {},
   "source": [
    "*Question:* Choose one of your model that can provide a measure of the importance of each feature. Print this measure and analyze it, what do you remark? If you identify (not compulsory) something feel free to modify the datasets (back to the feature selection process). If you performed this step train again the selected model an observe if there is a difference, conclude."
   ]
  },
  {
   "cell_type": "code",
   "execution_count": null,
   "metadata": {},
   "outputs": [],
   "source": []
  },
  {
   "cell_type": "markdown",
   "metadata": {},
   "source": [
    "## Model Optimization "
   ]
  },
  {
   "cell_type": "markdown",
   "metadata": {},
   "source": [
    "*Question*: Choose one of these two families of algorithms: Decision Trees and SVM. \n",
    "Perform a cross-validation on this model. Be careful to:\n",
    "1. Carefully select the parameters concerned by the optimization\n",
    "2. Explain their role and why you decided to optimize them\n",
    "3. Carefully choose the range/values of these parameters to put in the grid search"
   ]
  },
  {
   "cell_type": "code",
   "execution_count": null,
   "metadata": {},
   "outputs": [],
   "source": []
  },
  {
   "cell_type": "code",
   "execution_count": null,
   "metadata": {},
   "outputs": [],
   "source": []
  },
  {
   "cell_type": "markdown",
   "metadata": {},
   "source": [
    "*Question:* Benchmark the results of your cross validation to the baseline algorithms of the previous section. Is the performance improved?"
   ]
  },
  {
   "cell_type": "code",
   "execution_count": null,
   "metadata": {},
   "outputs": [],
   "source": []
  },
  {
   "cell_type": "code",
   "execution_count": null,
   "metadata": {},
   "outputs": [],
   "source": []
  },
  {
   "cell_type": "markdown",
   "metadata": {},
   "source": [
    "Under this cell feel free to test any other approach not mentionned before to try to optimize the performance of your model (not mandatory)."
   ]
  },
  {
   "cell_type": "code",
   "execution_count": null,
   "metadata": {},
   "outputs": [],
   "source": []
  },
  {
   "cell_type": "code",
   "execution_count": null,
   "metadata": {},
   "outputs": [],
   "source": []
  },
  {
   "cell_type": "markdown",
   "metadata": {},
   "source": [
    "## Conclusion"
   ]
  },
  {
   "cell_type": "markdown",
   "metadata": {},
   "source": [
    "*Question:* In the light of your results explain which model you would choose to predict the credit reliability of a new client of your bank and which information you would carefully collect for this purpose."
   ]
  },
  {
   "cell_type": "code",
   "execution_count": null,
   "metadata": {},
   "outputs": [],
   "source": []
  },
  {
   "cell_type": "code",
   "execution_count": null,
   "metadata": {},
   "outputs": [],
   "source": []
  },
  {
   "cell_type": "markdown",
   "metadata": {},
   "source": [
    "# Open Problem"
   ]
  },
  {
   "cell_type": "markdown",
   "metadata": {},
   "source": [
    "In this problem you will try to answer a binary classification problem with both supervised and unsupervised algorithms. \n",
    "\n",
    "First, run the following cell to download the datasets for this part. You will get a feature dataset $X$, and a target variable $y$."
   ]
  },
  {
   "cell_type": "code",
   "execution_count": null,
   "metadata": {
    "ExecuteTime": {
     "end_time": "2020-04-09T09:21:48.247037Z",
     "start_time": "2020-04-09T09:21:48.224820Z"
    }
   },
   "outputs": [],
   "source": [
    "X = pd.read_csv('X_part2.csv', index_col=0) # Features\n",
    "y = np.array(pd.read_csv('y_part2.csv', index_col=0)).ravel() # Target variable"
   ]
  },
  {
   "cell_type": "markdown",
   "metadata": {
    "ExecuteTime": {
     "end_time": "2020-04-09T10:00:39.343080Z",
     "start_time": "2020-04-09T10:00:39.301288Z"
    }
   },
   "source": [
    "*Question 1.:* Train some supervised algorithms of your choice to answer the problem. Comment on your choice and analyze their performance. These algorithms will be baselines to compare with the results of the next question.\n",
    "<br><br>\n",
    "*Question 2.:* Try to use unsupervised algorithms to improve your performance. You can 1) Use only unsupervised algorithms and 2) Use unsupervised algorithms to transform the features or find new features and then use these features to train a supervised algorithm.\n",
    "<br><br>\n",
    "*Question 3.:* Write a report about your methodology and your main results."
   ]
  },
  {
   "cell_type": "code",
   "execution_count": null,
   "metadata": {
    "ExecuteTime": {
     "end_time": "2020-04-09T09:17:41.383053Z",
     "start_time": "2020-04-09T09:17:41.371537Z"
    }
   },
   "outputs": [],
   "source": []
  },
  {
   "cell_type": "code",
   "execution_count": null,
   "metadata": {
    "ExecuteTime": {
     "end_time": "2020-04-09T09:20:07.377174Z",
     "start_time": "2020-04-09T09:20:07.357626Z"
    }
   },
   "outputs": [],
   "source": []
  },
  {
   "cell_type": "code",
   "execution_count": null,
   "metadata": {
    "ExecuteTime": {
     "end_time": "2020-04-09T09:20:09.607581Z",
     "start_time": "2020-04-09T09:20:09.588969Z"
    }
   },
   "outputs": [],
   "source": []
  },
  {
   "cell_type": "code",
   "execution_count": null,
   "metadata": {
    "ExecuteTime": {
     "end_time": "2020-04-09T09:20:18.197274Z",
     "start_time": "2020-04-09T09:20:18.135266Z"
    }
   },
   "outputs": [],
   "source": []
  },
  {
   "cell_type": "code",
   "execution_count": null,
   "metadata": {},
   "outputs": [],
   "source": []
  }
 ],
 "metadata": {
  "kernelspec": {
   "display_name": "Python 3",
   "language": "python",
   "name": "python3"
  },
  "language_info": {
   "codemirror_mode": {
    "name": "ipython",
    "version": 3
   },
   "file_extension": ".py",
   "mimetype": "text/x-python",
   "name": "python",
   "nbconvert_exporter": "python",
   "pygments_lexer": "ipython3",
   "version": "3.7.4"
  },
  "toc": {
   "base_numbering": 1,
   "nav_menu": {},
   "number_sections": true,
   "sideBar": true,
   "skip_h1_title": false,
   "title_cell": "Table of Contents",
   "title_sidebar": "Contents",
   "toc_cell": false,
   "toc_position": {},
   "toc_section_display": true,
   "toc_window_display": false
  }
 },
 "nbformat": 4,
 "nbformat_minor": 2
}
