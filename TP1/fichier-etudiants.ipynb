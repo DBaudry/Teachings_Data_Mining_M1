{
 "cells": [
  {
   "cell_type": "markdown",
   "metadata": {
    "toc": "true"
   },
   "source": [
    "<h1>Table of Contents<span class=\"tocSkip\"></span></h1>\n",
    "<div class=\"toc\"><ul class=\"toc-item\"><li><span><a href=\"#Table-of-Contents\" data-toc-modified-id=\"Table-of-Contents-1\"><span class=\"toc-item-num\">1&nbsp;&nbsp;</span>Table of Contents</a></span></li><li><span><a href=\"#Introduction\" data-toc-modified-id=\"Introduction-2\"><span class=\"toc-item-num\">2&nbsp;&nbsp;</span>Introduction</a></span><ul class=\"toc-item\"><li><span><a href=\"#Load-packages-and-related-objects\" data-toc-modified-id=\"Load-packages-and-related-objects-2.1\"><span class=\"toc-item-num\">2.1&nbsp;&nbsp;</span>Load packages and related objects</a></span></li></ul></li><li><span><a href=\"#Data-preparation\" data-toc-modified-id=\"Data-preparation-3\"><span class=\"toc-item-num\">3&nbsp;&nbsp;</span>Data preparation</a></span><ul class=\"toc-item\"><li><span><a href=\"#Load-data\" data-toc-modified-id=\"Load-data-3.1\"><span class=\"toc-item-num\">3.1&nbsp;&nbsp;</span>Load data</a></span></li><li><span><a href=\"#Feature-encoding\" data-toc-modified-id=\"Feature-encoding-3.2\"><span class=\"toc-item-num\">3.2&nbsp;&nbsp;</span>Feature encoding</a></span></li><li><span><a href=\"#Split-dataset-$\\mapsto$-train/test\" data-toc-modified-id=\"Split-dataset-$\\mapsto$-train/test-3.3\"><span class=\"toc-item-num\">3.3&nbsp;&nbsp;</span>Split dataset $\\mapsto$ train/test</a></span></li></ul></li><li><span><a href=\"#Inspection-of-the-training-set\" data-toc-modified-id=\"Inspection-of-the-training-set-4\"><span class=\"toc-item-num\">4&nbsp;&nbsp;</span>Inspection of the training set</a></span><ul class=\"toc-item\"><li><span><a href=\"#Short-summary-of-training-set\" data-toc-modified-id=\"Short-summary-of-training-set-4.1\"><span class=\"toc-item-num\">4.1&nbsp;&nbsp;</span>Short summary of training set</a></span></li><li><span><a href=\"#Visualization\" data-toc-modified-id=\"Visualization-4.2\"><span class=\"toc-item-num\">4.2&nbsp;&nbsp;</span>Visualization</a></span></li></ul></li><li><span><a href=\"#Classification-with-KNN\" data-toc-modified-id=\"Classification-with-KNN-5\"><span class=\"toc-item-num\">5&nbsp;&nbsp;</span>Classification with KNN</a></span><ul class=\"toc-item\"><li><span><a href=\"#Classification-using-all-the-features\" data-toc-modified-id=\"Classification-using-all-the-features-5.1\"><span class=\"toc-item-num\">5.1&nbsp;&nbsp;</span>Classification using all the features</a></span><ul class=\"toc-item\"><li><span><a href=\"#Classification-errors\" data-toc-modified-id=\"Classification-errors-5.1.1\"><span class=\"toc-item-num\">5.1.1&nbsp;&nbsp;</span>Classification errors</a></span></li><li><span><a href=\"#Confusion-matrix\" data-toc-modified-id=\"Confusion-matrix-5.1.2\"><span class=\"toc-item-num\">5.1.2&nbsp;&nbsp;</span>Confusion matrix</a></span></li></ul></li><li><span><a href=\"#Classification-using-only-2-features\" data-toc-modified-id=\"Classification-using-only-2-features-5.2\"><span class=\"toc-item-num\">5.2&nbsp;&nbsp;</span>Classification using only 2 features</a></span><ul class=\"toc-item\"><li><span><a href=\"#Decision-boundary\" data-toc-modified-id=\"Decision-boundary-5.2.1\"><span class=\"toc-item-num\">5.2.1&nbsp;&nbsp;</span>Decision boundary</a></span></li><li><span><a href=\"#Tune-the-$k$-parameter\" data-toc-modified-id=\"Tune-the-$k$-parameter-5.2.2\"><span class=\"toc-item-num\">5.2.2&nbsp;&nbsp;</span>Tune the $k$ parameter</a></span><ul class=\"toc-item\"><li><span><a href=\"#Manually\" data-toc-modified-id=\"Manually-5.2.2.1\"><span class=\"toc-item-num\">5.2.2.1&nbsp;&nbsp;</span>Manually</a></span></li><li><span><a href=\"#Bonus:-with-sklearn-GridSearchCV\" data-toc-modified-id=\"Bonus:-with-sklearn-GridSearchCV-5.2.2.2\"><span class=\"toc-item-num\">5.2.2.2&nbsp;&nbsp;</span>Bonus: with <code>sklearn</code> <a href=\"https://scikit-learn.org/stable/modules/generated/sklearn.model_selection.GridSearchCV.html\" target=\"_blank\"><code>GridSearchCV</code></a></a></span></li></ul></li></ul></li></ul></li></ul></div>"
   ]
  },
  {
   "cell_type": "markdown",
   "metadata": {},
   "source": [
    "# Introduction\n",
    "\n",
    "This goal of this first TP is twofold:\n",
    "\n",
    "- familiarize yourself with Python `pandas, seaborn, sklearn`\n",
    "- practice the data analysis workflow\n",
    "    - with the $k$-NN classifier on a toy example: the [`iris` flower dataset](https://en.wikipedia.org/wiki/Iris_flower_data_set)\n",
    "    - display a descision boundary\n",
    "    - apply a simple receipe to tune the $k$ parameter\n",
    "\n",
    "\n",
    "**You are expected to answer, comment and argument everything you do**"
   ]
  },
  {
   "cell_type": "markdown",
   "metadata": {},
   "source": [
    "## Load packages and related objects"
   ]
  },
  {
   "cell_type": "code",
   "execution_count": 1,
   "metadata": {},
   "outputs": [],
   "source": [
    "import numpy as np\n",
    "import matplotlib.pyplot as plt\n",
    "\n",
    "# use pandas to play with dataset\n",
    "import pandas as pd\n",
    "\n",
    "# use seaborn to display data\n",
    "import seaborn as sns\n",
    "\n",
    "# use sklearn to practice ML\n",
    "from sklearn.datasets import load_iris\n",
    "from sklearn.model_selection import train_test_split\n",
    "from sklearn.metrics import confusion_matrix\n",
    "\n",
    "# Algorithm of the day\n",
    "from sklearn.neighbors import KNeighborsClassifier as KNN"
   ]
  },
  {
   "cell_type": "markdown",
   "metadata": {},
   "source": [
    "# Data preparation\n",
    "\n",
    "In this first phase you get a first contact with the data\n",
    "\n",
    "- size\n",
    "- name of features (potentially rename some of them)\n",
    "- missing values (there are no missing values with `iris`)\n",
    "- type of features\n",
    "- number of classes\n",
    "\n",
    "and then split it into train/test sets"
   ]
  },
  {
   "cell_type": "markdown",
   "metadata": {},
   "source": [
    "## Load data"
   ]
  },
  {
   "cell_type": "code",
   "execution_count": 2,
   "metadata": {
    "code_folding": []
   },
   "outputs": [],
   "source": [
    "iris = load_iris() # load iris dataset from scikit-learn"
   ]
  },
  {
   "cell_type": "markdown",
   "metadata": {},
   "source": [
    "What are the attributes of the `iris` object?"
   ]
  },
  {
   "cell_type": "code",
   "execution_count": null,
   "metadata": {},
   "outputs": [],
   "source": [
    "help(iris)\n",
    "iris.feature_names"
   ]
  },
  {
   "cell_type": "code",
   "execution_count": null,
   "metadata": {},
   "outputs": [],
   "source": [
    "iris.target_names"
   ]
  },
  {
   "cell_type": "markdown",
   "metadata": {},
   "source": [
    "Create `DataFrame`s:\n",
    "\n",
    "- `X_data` from `iris.data`\n",
    "- `y_data` from `iris.target`\n",
    "    * 2 columns `'label'` (0,1,2) and `'specie'` ('setosa', 'versicolor', 'virginica'')\n",
    "    * set the type of the `'specie'` column to '`category`'"
   ]
  },
  {
   "cell_type": "code",
   "execution_count": 12,
   "metadata": {
    "code_folding": []
   },
   "outputs": [],
   "source": [
    "X_data = pd.DataFrame(iris.data, columns=iris.feature_names)\n",
    "y_data = pd.DataFrame(iris.target, columns=['label'])\n",
    "\n",
    "y_data['specie'] = y_data.label.map(dict(enumerate(iris.target_names)))\n",
    "y_data['specie'] = y_data['specie'].astype('category')"
   ]
  },
  {
   "cell_type": "markdown",
   "metadata": {},
   "source": [
    "What is the size of the dataset?\n",
    "\n",
    "Hint: use `.shape`"
   ]
  },
  {
   "cell_type": "markdown",
   "metadata": {},
   "source": [
    "Display the first 10 rows of the dataset\n",
    "\n",
    "Hint: use `.head()`"
   ]
  },
  {
   "cell_type": "markdown",
   "metadata": {},
   "source": [
    "What is the type of each feature and what do they correspond to?"
   ]
  },
  {
   "cell_type": "markdown",
   "metadata": {},
   "source": [
    "What is the proportion of each class?"
   ]
  },
  {
   "cell_type": "markdown",
   "metadata": {},
   "source": [
    "## Feature encoding"
   ]
  },
  {
   "cell_type": "markdown",
   "metadata": {},
   "source": [
    "Try to rename features' name: remove `  (cm)` for simpler calls/display"
   ]
  },
  {
   "cell_type": "code",
   "execution_count": null,
   "metadata": {
    "code_folding": []
   },
   "outputs": [],
   "source": [
    "X_data.rename(lambda x: '_'.join(x.split(' ')[:-1]),\n",
    "              axis='columns', inplace=True)\n",
    "\n",
    "X_data.head()"
   ]
  },
  {
   "cell_type": "markdown",
   "metadata": {},
   "source": [
    "## Split dataset $\\mapsto$ train/test\n",
    "\n",
    "Hint:\n",
    "- use `train_test_split`\n",
    "- think about `shuffle` and `stratified` arguments!\n",
    "\n",
    "After the split the test set is **only** used to assess the performance of your classifier on unseen data."
   ]
  },
  {
   "cell_type": "code",
   "execution_count": null,
   "metadata": {},
   "outputs": [],
   "source": [
    "test_frac = 1/3 # Fraction of the data set to consider as test set\n",
    "\n",
    "X_train, X_test,\\\n",
    "y_train, y_test = train_test_split(X_data, y_data.label,\n",
    "                                   test_size=test_frac,\n",
    "                                   shuffle=True,\n",
    "                                   stratify=y_data.label)#,\n",
    "#                                    random_state=123)"
   ]
  },
  {
   "cell_type": "markdown",
   "metadata": {},
   "source": [
    "Comment on the impact of the `shuffle` and `stratified` arguments on the proportion of classes"
   ]
  },
  {
   "cell_type": "markdown",
   "metadata": {},
   "source": [
    "What could the `random_state` argument be used for? "
   ]
  },
  {
   "cell_type": "markdown",
   "metadata": {},
   "source": [
    "___\n",
    "\n",
    "Create a `DataFrame` named `data_train` as the concatenation of `X_train` and the corresponding labels.\n",
    "\n",
    "That will be convenient to use in the visualization part"
   ]
  },
  {
   "cell_type": "code",
   "execution_count": null,
   "metadata": {},
   "outputs": [],
   "source": [
    "data_train = pd.concat([X_train, y_data.specie[y_train.index]], axis=1)\n",
    "data_train.head()"
   ]
  },
  {
   "cell_type": "markdown",
   "metadata": {},
   "source": [
    "# Inspection of the training set"
   ]
  },
  {
   "cell_type": "markdown",
   "metadata": {},
   "source": [
    "This is the most important part!\n",
    "\n",
    "You must carefully study the distribution of your data.\n",
    "\n",
    "For this purpose you are free to compute and display as many stastistical properties of the data and make some relevant comments."
   ]
  },
  {
   "cell_type": "markdown",
   "metadata": {},
   "source": [
    "## Short summary of training set\n",
    "\n",
    "Hint: you can use the `describe` method"
   ]
  },
  {
   "cell_type": "markdown",
   "metadata": {},
   "source": [
    "Compute the correlation matrix"
   ]
  },
  {
   "cell_type": "markdown",
   "metadata": {},
   "source": [
    "## Visualization\n",
    "\n",
    "Enjoy [`seaborn`](https://seaborn.pydata.org/index.html) displays\n",
    "\n",
    "- `boxplot`\n",
    "- `violinplot`\n",
    "- `pairplot`\n",
    "- `pie`"
   ]
  },
  {
   "cell_type": "markdown",
   "metadata": {},
   "source": [
    "# Classification with KNN"
   ]
  },
  {
   "cell_type": "markdown",
   "metadata": {},
   "source": [
    "## Classification using all the features\n",
    "\n",
    "The `sklearn` classifier [`KNeighborsClassifier`](https://scikit-learn.org/stable/modules/generated/sklearn.neighbors.KNeighborsClassifier.html#sklearn.neighbors.KNeighborsClassifier) works as a regular Python object! \n",
    "\n",
    "In particular it has \n",
    "\n",
    "- attributes:\n",
    "    - `n_neighbors`$=k$\n",
    "    - [`metric`](https://scikit-learn.org/stable/modules/generated/sklearn.neighbors.DistanceMetric.html)\n",
    "    - `weights`\n",
    "- methods\n",
    "    - `.fit` to train the model\n",
    "    - `.predict` to predict tests' label (specie)\n",
    "    - `.score` to prodive classification score"
   ]
  },
  {
   "cell_type": "markdown",
   "metadata": {},
   "source": [
    "Create a baseline $k$-NN classifier with $k=3$ and train the model on `X_train` and `y_train`"
   ]
  },
  {
   "cell_type": "markdown",
   "metadata": {},
   "source": [
    "### Classification errors"
   ]
  },
  {
   "cell_type": "markdown",
   "metadata": {},
   "source": [
    "Compute the classification error on the training set `X_train` in 2 ways:\n",
    "\n",
    "- use `predict` method\n",
    "- use `score` method"
   ]
  },
  {
   "cell_type": "markdown",
   "metadata": {},
   "source": [
    "Now evaluate your model on the test set and give the corresponding classification error, `err_test`"
   ]
  },
  {
   "cell_type": "markdown",
   "metadata": {},
   "source": [
    "### Confusion matrix\n",
    "\n",
    "Use the function `confusion_matrix` to compute the confusion matrix called `conf_mat`of the classifier on the test set."
   ]
  },
  {
   "cell_type": "markdown",
   "metadata": {},
   "source": [
    "To display a nice confusion matrix you can use the following"
   ]
  },
  {
   "cell_type": "code",
   "execution_count": null,
   "metadata": {},
   "outputs": [],
   "source": [
    "plt.title('Confusion matrix on test set, with classification error {:.2f}%'.format(100*err_test))\n",
    "\n",
    "ax = sns.heatmap(conf_mat, annot=True, linewidths=.5)\n",
    "\n",
    "ax.xaxis.set_ticks_position('top')\n",
    "plt.xticks(0.5+np.arange(3), iris.target_names)\n",
    "plt.yticks(0.5+np.arange(3), iris.target_names, **{'verticalalignment':'center'})\n",
    "\n",
    "plt.show()"
   ]
  },
  {
   "cell_type": "markdown",
   "metadata": {},
   "source": [
    "Any comment?"
   ]
  },
  {
   "cell_type": "markdown",
   "metadata": {},
   "source": [
    "## Classification using only 2 features\n",
    "\n",
    "From the visualization part what could be the best 2 discriminative features?\n",
    "\n",
    "Create `X_train_2D` the corresponding 2D training set."
   ]
  },
  {
   "cell_type": "code",
   "execution_count": null,
   "metadata": {},
   "outputs": [],
   "source": [
    "features = ['petal_length', 'petal_width'] # petal_width, sepal_length\n",
    "\n",
    "X_train_2D = X_train[features]"
   ]
  },
  {
   "cell_type": "markdown",
   "metadata": {},
   "source": [
    "Train a baseline $k$-NN classifier based only on these 2 features, with $k=3$"
   ]
  },
  {
   "cell_type": "markdown",
   "metadata": {},
   "source": [
    "### Decision boundary"
   ]
  },
  {
   "cell_type": "markdown",
   "metadata": {},
   "source": [
    "To do this, you can mesh the input space and predict the class of each point of the mesh"
   ]
  },
  {
   "cell_type": "markdown",
   "metadata": {},
   "source": [
    "To construct the mesh you can use"
   ]
  },
  {
   "cell_type": "code",
   "execution_count": null,
   "metadata": {},
   "outputs": [],
   "source": [
    "x_min, x_max = X_data[features[0]].min() - 1.0, X_data[features[0]].max() + 1.0\n",
    "y_min, y_max = X_data[features[1]].min() - 1.0, X_data[features[1]].max() + 1.0\n",
    "\n",
    "# Create mesh of the input space\n",
    "nx, ny = 100, 100 # number of nodes along x (resp. y) axis\n",
    "mesh_x, mesh_y = np.linspace(x_min, x_max, nx), np.linspace(y_min, y_max, ny)\n",
    "xx, yy = np.meshgrid(mesh_x, mesh_y)\n",
    "X_mesh = np.column_stack([xx.ravel(), yy.ravel()])"
   ]
  },
  {
   "cell_type": "markdown",
   "metadata": {},
   "source": [
    "Predict labels of the mesh's nodes"
   ]
  },
  {
   "cell_type": "markdown",
   "metadata": {},
   "source": [
    "To display the decision boundary you can use `contourf` in the following way"
   ]
  },
  {
   "cell_type": "code",
   "execution_count": null,
   "metadata": {},
   "outputs": [],
   "source": [
    "fig, ax = plt.subplots()\n",
    "\n",
    "ax.contourf(xx, yy, y_pred_mesh.reshape(xx.shape),\n",
    "            cmap=plt.cm.coolwarm, alpha=0.7)\n",
    "\n",
    "plt.show()"
   ]
  },
  {
   "cell_type": "markdown",
   "metadata": {},
   "source": [
    "Now **you** can display both the decision boundary and train/test examples"
   ]
  },
  {
   "cell_type": "markdown",
   "metadata": {},
   "source": [
    "### Tune the $k$ parameter"
   ]
  },
  {
   "cell_type": "markdown",
   "metadata": {},
   "source": [
    "#### Manually\n",
    "\n",
    "Split the 2D training set into a smaller dataset and one validation set.\n",
    "\n",
    "The latter is used as an indicator of the predicting power of $k$-NN classifier on the test set for different values of $k$.\n",
    "\n",
    "In other words\n",
    "\n",
    "- `X_train_2D, y_train` $\\mapsto$ `X_train_small` $\\cup$ `X_valid`, `y_valid` $\\cup$ `y_train_small`\n",
    "- Fit the model for different values of $k$ and predict on the validation set\n",
    "- Pick the value of $k$ that yields the smallest validation error"
   ]
  },
  {
   "cell_type": "markdown",
   "metadata": {},
   "source": [
    "#### Bonus: with `sklearn` [`GridSearchCV`](https://scikit-learn.org/stable/modules/generated/sklearn.model_selection.GridSearchCV.html)"
   ]
  },
  {
   "cell_type": "code",
   "execution_count": null,
   "metadata": {},
   "outputs": [],
   "source": [
    "from sklearn.model_selection import GridSearchCV"
   ]
  }
 ],
 "metadata": {
  "anaconda-cloud": {},
  "kernelspec": {
   "display_name": "Python 3",
   "language": "python",
   "name": "python3"
  },
  "language_info": {
   "codemirror_mode": {
    "name": "ipython",
    "version": 3
   },
   "file_extension": ".py",
   "mimetype": "text/x-python",
   "name": "python",
   "nbconvert_exporter": "python",
   "pygments_lexer": "ipython3",
   "version": "3.7.4"
  },
  "toc": {
   "base_numbering": 1,
   "nav_menu": {
    "height": "448.352px",
    "width": "251.989px"
   },
   "number_sections": true,
   "sideBar": true,
   "skip_h1_title": false,
   "title_cell": "Table of Contents",
   "title_sidebar": "Contents",
   "toc_cell": true,
   "toc_position": {
    "height": "580px",
    "left": "0px",
    "right": "1068px",
    "top": "110px",
    "width": "212px"
   },
   "toc_section_display": "block",
   "toc_window_display": true
  }
 },
 "nbformat": 4,
 "nbformat_minor": 2
}
