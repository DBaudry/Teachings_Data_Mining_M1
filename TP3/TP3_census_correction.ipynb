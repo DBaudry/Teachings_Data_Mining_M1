{
 "cells": [
  {
   "cell_type": "markdown",
   "metadata": {},
   "source": [
    "# Introduction\n",
    "\n",
    "This TP3 is based on the previous TP2 where we considered the `census` dataset and applied the `LogisticRegression`.\n",
    "\n",
    "Prior to that you should have inspected the data.\n",
    "\n",
    "In particular, you may have\n",
    "- used the raw data,\n",
    "- created groups,\n",
    "- or even new features\n",
    "\n",
    "to simplify the learning phase as well as the interpretation of your output.\n",
    "\n",
    "**Based on this important phase of data visualization/inspection/description... we are going to apply some new classification techniques on the same dataset, namely**\n",
    "\n",
    "1. Decision trees through `DecisionTreeClassifier`\n",
    "2. Support Vector Machines through `SVC`\n",
    "\n",
    "**Today, your missions are the following:**\n",
    "\n",
    "1. Practice your basics in the companion notebook `Toy_examples`.\n",
    "2. Create a baseline perfomance on the `census` data with the classifiers of the day.\n",
    "3. Tune the parameters to obtain good classification perfomances using `GridSearchCV`.\n",
    "4. Select between the 2 models based on the classification error on the test set\n",
    "5. Display both the ROC curves and compute the corresponding AUCs.\n",
    "\n",
    "**Hints:**\n",
    "- 💣 Use notebook `Toy_example` 💣\n",
    "- Don't forget to `MAJ + Tab*2`!\n",
    "- `sklearn` objects have the same standardized methods as you saw before\n",
    "    - `.fit`\n",
    "    - `.predict/predict_proba`\n",
    "    - `.score` \n",
    "    - ...\n",
    "- You search engine is a nice asset... you can find inspiration in examples of other people"
   ]
  },
  {
   "cell_type": "markdown",
   "metadata": {
    "toc": "true"
   },
   "source": [
    "<h1>Table of Contents<span class=\"tocSkip\"></span></h1>\n",
    "<div class=\"toc\"><ul class=\"toc-item\"><li><span><a href=\"#Introduction\" data-toc-modified-id=\"Introduction-1\"><span class=\"toc-item-num\">1&nbsp;&nbsp;</span>Introduction</a></span><ul class=\"toc-item\"><li><span><a href=\"#Load-packages-and-related-objects\" data-toc-modified-id=\"Load-packages-and-related-objects-1.1\"><span class=\"toc-item-num\">1.1&nbsp;&nbsp;</span>Load packages and related objects</a></span></li><li><span><a href=\"#Load-and-prepare-the-data\" data-toc-modified-id=\"Load-and-prepare-the-data-1.2\"><span class=\"toc-item-num\">1.2&nbsp;&nbsp;</span>Load and prepare the data</a></span></li></ul></li><li><span><a href=\"#Back-to-Logistic-Regression\" data-toc-modified-id=\"Back-to-Logistic-Regression-2\"><span class=\"toc-item-num\">2&nbsp;&nbsp;</span>Back to Logistic Regression</a></span></li><li><span><a href=\"#Baselines-for-this-TP\" data-toc-modified-id=\"Baselines-for-this-TP-3\"><span class=\"toc-item-num\">3&nbsp;&nbsp;</span>Baselines for this TP</a></span></li><li><span><a href=\"#Decision-Trees\" data-toc-modified-id=\"Decision-Trees-4\"><span class=\"toc-item-num\">4&nbsp;&nbsp;</span>Decision Trees</a></span><ul class=\"toc-item\"><li><span><a href=\"#Vizualization-of-shallow-(low-depth)-trees\" data-toc-modified-id=\"Vizualization-of-shallow-(low-depth)-trees-4.1\"><span class=\"toc-item-num\">4.1&nbsp;&nbsp;</span>Vizualization of shallow (low depth) trees</a></span></li><li><span><a href=\"#Bias-variance-tradeoff\" data-toc-modified-id=\"Bias-variance-tradeoff-4.2\"><span class=\"toc-item-num\">4.2&nbsp;&nbsp;</span>Bias-variance tradeoff</a></span></li><li><span><a href=\"#Optimization-of-the-classifier-with-respect-to-classification-error\" data-toc-modified-id=\"Optimization-of-the-classifier-with-respect-to-classification-error-4.3\"><span class=\"toc-item-num\">4.3&nbsp;&nbsp;</span>Optimization of the classifier with respect to classification error</a></span><ul class=\"toc-item\"><li><span><a href=\"#Preliminary\" data-toc-modified-id=\"Preliminary-4.3.1\"><span class=\"toc-item-num\">4.3.1&nbsp;&nbsp;</span>Preliminary</a></span></li><li><span><a href=\"#Let's-practice\" data-toc-modified-id=\"Let's-practice-4.3.2\"><span class=\"toc-item-num\">4.3.2&nbsp;&nbsp;</span>Let's practice</a></span></li></ul></li></ul></li><li><span><a href=\"#SVMs\" data-toc-modified-id=\"SVMs-5\"><span class=\"toc-item-num\">5&nbsp;&nbsp;</span>SVMs</a></span></li><li><span><a href=\"#Conclusion\" data-toc-modified-id=\"Conclusion-6\"><span class=\"toc-item-num\">6&nbsp;&nbsp;</span>Conclusion</a></span></li></ul></div>"
   ]
  },
  {
   "cell_type": "markdown",
   "metadata": {},
   "source": [
    "## Load packages and related objects"
   ]
  },
  {
   "cell_type": "code",
   "execution_count": 1,
   "metadata": {
    "ExecuteTime": {
     "end_time": "2020-03-11T09:31:56.606011Z",
     "start_time": "2020-03-11T09:31:55.246954Z"
    }
   },
   "outputs": [],
   "source": [
    "import numpy as np\n",
    "import matplotlib.pyplot as plt\n",
    "\n",
    "# use pandas to play with dataset\n",
    "import pandas as pd\n",
    "\n",
    "# use seaborn to display data\n",
    "import seaborn as sns\n",
    "\n",
    "# use sklearn to practice ML\n",
    "from sklearn.preprocessing import LabelEncoder\n",
    "from sklearn.model_selection import train_test_split, GridSearchCV, cross_validate\n",
    "from sklearn.metrics import confusion_matrix, roc_curve, auc, roc_auc_score\n",
    "\n",
    "# Algorithms of the day\n",
    "from sklearn.linear_model import LinearRegression\n",
    "from sklearn.linear_model import LogisticRegression\n",
    "from sklearn.tree import DecisionTreeClassifier\n",
    "from sklearn.svm import SVC\n",
    "\n",
    "#To visualize trees \n",
    "import graphviz\n",
    "from sklearn.tree import export_graphviz"
   ]
  },
  {
   "cell_type": "markdown",
   "metadata": {},
   "source": [
    "## Load and prepare the data"
   ]
  },
  {
   "cell_type": "markdown",
   "metadata": {},
   "source": [
    "We consider the same pipeline as in TP2.\n",
    "\n",
    "But we take a smaller fraction of the data to train the models,\n",
    "mainly because SVMs scale poorly with the size of the training set!"
   ]
  },
  {
   "cell_type": "code",
   "execution_count": 2,
   "metadata": {
    "ExecuteTime": {
     "end_time": "2020-03-11T09:32:04.574401Z",
     "start_time": "2020-03-11T09:32:04.344498Z"
    }
   },
   "outputs": [],
   "source": [
    "data = pd.read_csv('census.csv', na_values='?')\n",
    "\n",
    "# Drop some sensitive data\n",
    "data.drop(columns=['fnlwgt', 'native.country'], inplace=True)\n",
    "\n",
    "# Drop missing values\n",
    "data.dropna(inplace=True) \n",
    "\n",
    "X_data = data.drop(columns='income', axis=1)\n",
    "\n",
    "# Construct dummy variables for categorical variables\n",
    "categorical_features = ['workclass', 'education', 'marital.status',\n",
    "                        'occupation', 'relationship', 'race', 'sex']\n",
    "X_data = pd.get_dummies(X_data, columns=categorical_features, drop_first=True)\n",
    "\n",
    "# Convert string label to 0, 1\n",
    "y_data = LabelEncoder().fit_transform(data['income'])\n",
    "\n",
    "# Split train/test\n",
    "test_frac = 2/3 # Fraction of the data set to consider as test set\n",
    "\n",
    "X_train, X_test,\\\n",
    "y_train, y_test = train_test_split(X_data, y_data,\n",
    "                                   test_size=test_frac,\n",
    "                                   shuffle=True, # Shuffle the data points before split\n",
    "                                   stratify=y_data, # Respect the proportion of classes\n",
    "                                   random_state=123) # To compare your performance to your neighbor's"
   ]
  },
  {
   "cell_type": "markdown",
   "metadata": {},
   "source": [
    "# Back to Logistic Regression\n",
    "\n",
    "Here you are simply given an example of code to:\n",
    "\n",
    "- instanciate the model with `sklearn`\n",
    "- build the corresponding ROC curve and compute the corresponding AUC\n",
    "- plot the ROC curve"
   ]
  },
  {
   "cell_type": "markdown",
   "metadata": {},
   "source": [
    "Rember that the underlying optimization problem solved by `sklearn` reads in this case\n",
    "\n",
    "$$\n",
    "\\min_{w, c} \\frac{1}{2}w^T w + C \\sum_{i=1}^n \\log(\\exp(- y_i (X_i^T w + c)) + 1)\n",
    "$$\n",
    "\n",
    "so you can take $C\\gg 1$ to work as if there was no regularization: the version of `LogisticRegression` you were taught in class."
   ]
  },
  {
   "cell_type": "markdown",
   "metadata": {},
   "source": [
    "###### Instanciate/train/score the model\n",
    "\n",
    "a. Choose 3 parameters of the `LogisticRegression` object and describe them"
   ]
  },
  {
   "cell_type": "code",
   "execution_count": 3,
   "metadata": {
    "ExecuteTime": {
     "end_time": "2020-03-11T07:32:12.125020Z",
     "start_time": "2020-03-11T07:32:11.981624Z"
    }
   },
   "outputs": [
    {
     "name": "stderr",
     "output_type": "stream",
     "text": [
      "/home/dbaudry/anaconda3/lib/python3.7/site-packages/sklearn/linear_model/logistic.py:432: FutureWarning: Default solver will be changed to 'lbfgs' in 0.22. Specify a solver to silence this warning.\n",
      "  FutureWarning)\n"
     ]
    }
   ],
   "source": [
    "log_reg = LogisticRegression(C=1e5)\n",
    "\n",
    "log_reg.fit(X_train, y_train)\n",
    "\n",
    "test_accuracy = log_reg.score(X_test, y_test)"
   ]
  },
  {
   "cell_type": "markdown",
   "metadata": {},
   "source": [
    "###### Build the Receiver Operating Characteristic curve"
   ]
  },
  {
   "cell_type": "markdown",
   "metadata": {},
   "source": [
    "b. Describe in a few words how the ROC curve is constructed"
   ]
  },
  {
   "cell_type": "code",
   "execution_count": 4,
   "metadata": {
    "ExecuteTime": {
     "end_time": "2020-03-11T07:32:15.133855Z",
     "start_time": "2020-03-11T07:32:15.113511Z"
    }
   },
   "outputs": [],
   "source": [
    "# 1: predict the probability to be classified as 1\n",
    "proba_pred_1 = log_reg.predict_proba(X_test)[:,1]\n",
    "\n",
    "# 2: compute false/true positive rates obtained by moving the detection threshold\n",
    "fpr, tpr, tresh = roc_curve(y_test, proba_pred_1)\n",
    "\n",
    "# Compute the Area Under the Curve\n",
    "eval_auc = auc(fpr, tpr)"
   ]
  },
  {
   "cell_type": "markdown",
   "metadata": {},
   "source": [
    "###### Plot the ROC curve\n",
    "\n",
    "c. Comment on the shape of the ROC curve."
   ]
  },
  {
   "cell_type": "code",
   "execution_count": 5,
   "metadata": {
    "ExecuteTime": {
     "end_time": "2020-03-11T07:32:19.563814Z",
     "start_time": "2020-03-11T07:32:19.399640Z"
    }
   },
   "outputs": [
    {
     "data": {
      "image/png": "[encoded data removed]",
      "text/plain": [
       "<Figure size 432x288 with 1 Axes>"
      ]
     },
     "metadata": {
      "needs_background": "light"
     },
     "output_type": "display_data"
    }
   ],
   "source": [
    "fig, ax = plt.subplots()\n",
    "\n",
    "plt.title('ROC curve')\n",
    "plt.xlabel('False Positive Rate')\n",
    "plt.ylabel('True Positive Rate')\n",
    "\n",
    "# Plot the ROC curve\n",
    "lab = 'LogisticRegression: test accuracy={:.2f}% AUC={:.2f}'.format(test_accuracy, eval_auc)\n",
    "ax.plot(fpr, tpr,\n",
    "        lw=2, \n",
    "        label=lab) \n",
    "\n",
    "# Plot the ROC curve associated to a coin flip\n",
    "ax.plot([0, 1], [0, 1], color='navy', lw=2, linestyle='--')\n",
    "\n",
    "plt.xlim([-0.01, 1.0])\n",
    "plt.ylim([0.0, 1.01])\n",
    "\n",
    "plt.legend(loc='best')\n",
    "          \n",
    "plt.show()"
   ]
  },
  {
   "cell_type": "markdown",
   "metadata": {},
   "source": [
    "# Baselines for this TP"
   ]
  },
  {
   "cell_type": "markdown",
   "metadata": {},
   "source": [
    "It is always a good starting point to establish a baseline to know what performance you should beat.\n",
    "\n",
    "For this you can naively instanciate the different classifiers by using the default parameters.\n",
    "\n",
    "Let's do this for `LogisticRegression` and `DecisionTreeClassifier`."
   ]
  },
  {
   "cell_type": "code",
   "execution_count": 6,
   "metadata": {
    "ExecuteTime": {
     "end_time": "2020-03-11T07:35:42.539620Z",
     "start_time": "2020-03-11T07:35:42.420827Z"
    }
   },
   "outputs": [
    {
     "name": "stderr",
     "output_type": "stream",
     "text": [
      "/home/dbaudry/anaconda3/lib/python3.7/site-packages/sklearn/linear_model/logistic.py:432: FutureWarning: Default solver will be changed to 'lbfgs' in 0.22. Specify a solver to silence this warning.\n",
      "  FutureWarning)\n"
     ]
    }
   ],
   "source": [
    "# Logistic regression\n",
    "log_reg = LogisticRegression(C=1e5)\n",
    "log_reg.fit(X_train, y_train)\n",
    "\n",
    "# classification score\n",
    "log_reg_test_acc = log_reg.score(X_test, y_test)\n",
    "\n",
    "# ROC/AUC\n",
    "proba_pred_1 = log_reg.predict_proba(X_test)[:,1]\n",
    "log_reg_fpr, log_reg_tpr, _ = roc_curve(y_test, proba_pred_1)\n",
    "log_reg_auc = auc(log_reg_fpr, log_reg_tpr)"
   ]
  },
  {
   "cell_type": "code",
   "execution_count": 7,
   "metadata": {
    "ExecuteTime": {
     "end_time": "2020-03-11T07:35:44.329467Z",
     "start_time": "2020-03-11T07:35:44.230204Z"
    }
   },
   "outputs": [],
   "source": [
    "# Decision Tree\n",
    "tree = DecisionTreeClassifier()\n",
    "tree.fit(X_train, y_train)\n",
    "\n",
    "# classification score\n",
    "tree_test_acc = tree.score(X_test, y_test)\n",
    "\n",
    "# ROC/AUC\n",
    "proba_pred_1 = tree.predict_proba(X_test)[:,1]\n",
    "tree_fpr, tree_tpr, _ = roc_curve(y_test, proba_pred_1)\n",
    "tree_auc = auc(tree_fpr, tree_tpr)"
   ]
  },
  {
   "cell_type": "code",
   "execution_count": 8,
   "metadata": {
    "ExecuteTime": {
     "end_time": "2020-03-11T07:35:46.675302Z",
     "start_time": "2020-03-11T07:35:46.503463Z"
    }
   },
   "outputs": [
    {
     "data": {
      "image/png": "[encoded data removed]",
      "text/plain": [
       "<Figure size 432x288 with 1 Axes>"
      ]
     },
     "metadata": {
      "needs_background": "light"
     },
     "output_type": "display_data"
    }
   ],
   "source": [
    "fig, ax = plt.subplots()\n",
    "\n",
    "plt.title('ROC curve')\n",
    "plt.xlabel('False Positive Rate')\n",
    "plt.ylabel('True Positive Rate')\n",
    "\n",
    "# ROC curves\n",
    "lab = 'LogisticRegression: test accuracy={:.2f}% AUC={:.2f}'.format(log_reg_test_acc, log_reg_auc)\n",
    "ax.plot(log_reg_fpr, log_reg_tpr,\n",
    "        lw=2, \n",
    "        label=lab) \n",
    "\n",
    "# ROC curves\n",
    "lab = 'LogisticRegression: test accuracy={:.2f}% AUC={:.2f}'.format(tree_test_acc, tree_auc)\n",
    "ax.plot(tree_fpr, tree_tpr,\n",
    "        lw=2, \n",
    "        label=lab) \n",
    "\n",
    "# Plot the ROC curve associated to a coin flip\n",
    "ax.plot([0, 1], [0, 1], color='navy', lw=2, linestyle='--')\n",
    "\n",
    "plt.xlim([-0.01, 1.0])\n",
    "plt.ylim([0.0, 1.01])\n",
    "\n",
    "plt.legend(loc='best')\n",
    "          \n",
    "plt.show()"
   ]
  },
  {
   "cell_type": "markdown",
   "metadata": {},
   "source": [
    "**Questions:**\n",
    "\n",
    "1. Explain how a ROC curve is computed.\n",
    "2. What can the ROC curve be used for ?\n",
    "\n",
    "**Bonus:** \n",
    "1. Think about a more compact way to reproduce the same plot (a loop might be a starting point).\n",
    "2. You can also superimpose the results for `SVC`. Beware, the training phase may take some time."
   ]
  },
  {
   "cell_type": "code",
   "execution_count": null,
   "metadata": {
    "ExecuteTime": {
     "start_time": "2020-03-11T07:37:00.754Z"
    }
   },
   "outputs": [],
   "source": [
    "fig, ax = plt.subplots()\n",
    "\n",
    "plt.title('ROC curves')\n",
    "plt.xlabel('False Positive Rate')\n",
    "plt.ylabel('True Positive Rate')\n",
    "\n",
    "for clf in [DecisionTreeClassifier(),\n",
    "            SVC(kernel='linear', probability=True)]:\n",
    "    \n",
    "    # Train the model\n",
    "    clf.fit(X_train, y_train)\n",
    "    \n",
    "    # Evaluate the accuracy\n",
    "    score = clf.score(X_test, y_test)\n",
    "    \n",
    "    # Build the Receiver Operating Characteristic curve:\n",
    "    # 1: predict the probability to be classified as 1\n",
    "    proba_pred_1 = clf.predict_proba(X_test)[:,1] # [:,1] to keep only P[y=1|X]\n",
    "    # 2: compute false/true positive rates obtained by moving the detection threshold\n",
    "    fpr, tpr, tresh = roc_curve(y_test, proba_pred_1)\n",
    "    \n",
    "    # Compute the Area Under the Curve\n",
    "    eval_auc = auc(fpr, tpr)\n",
    "    # roc_auc_score(y_test, proba_pred_1)\n",
    "          \n",
    "    # Associate a label to each classifier (don't spend time on it just use it)\n",
    "    lab = ' '.join([clf.__class__.__name__,\n",
    "                   'score {:.2f}'.format(score),\n",
    "                   'AUC {:.2f}'.format(eval_auc)])\n",
    "    \n",
    "    # Plot the ROC curve\n",
    "    ax.plot(fpr, tpr, label=lab, lw=2) \n",
    "    \n",
    "# Plot the ROC curve associated to a coin flip\n",
    "ax.plot([0, 1], [0, 1], color='navy', lw=2, linestyle='--')\n",
    "\n",
    "ax.xlim([0.0, 1.0])\n",
    "ax.ylim([0.0, 1.05])\n",
    "\n",
    "plt.legend(loc='best')\n",
    "          \n",
    "plt.show()"
   ]
  },
  {
   "cell_type": "markdown",
   "metadata": {},
   "source": [
    "# Decision Trees\n",
    "\n",
    "In this section, we focus on the `DecisionTreeClassifier` and strive to optimize its performances on our `census` dataset."
   ]
  },
  {
   "cell_type": "markdown",
   "metadata": {},
   "source": [
    "## Vizualization of shallow (low depth) trees\n",
    "\n",
    "Consider `DecisionTreeClassifier(max_depth=)`\n",
    "\n",
    "**Questions**\n",
    "\n",
    "1. Display the trees corresponding to `max_depth` parameters in $\\{1, 2, 3\\}$ (have a look at the `Toy_Example` notebook).\n",
    "\n",
    "2. Comment on these observations"
   ]
  },
  {
   "cell_type": "code",
   "execution_count": 3,
   "metadata": {
    "ExecuteTime": {
     "end_time": "2020-03-11T09:32:14.288610Z",
     "start_time": "2020-03-11T09:32:14.210962Z"
    }
   },
   "outputs": [
    {
     "data": {
      "image/svg+xml": [
       "<?xml version=\"1.0\" encoding=\"UTF-8\" standalone=\"no\"?>\n",
       "<!DOCTYPE svg PUBLIC \"-//W3C//DTD SVG 1.1//EN\"\n",
       " \"http://www.w3.org/Graphics/SVG/1.1/DTD/svg11.dtd\">\n",
       "<!-- Generated by graphviz version 2.40.1 (20161225.0304)\n",
       " -->\n",
       "<!-- Title: Tree Pages: 1 -->\n",
       "<svg width=\"298pt\" height=\"165pt\"\n",
       " viewBox=\"0.00 0.00 298.00 165.00\" xmlns=\"http://www.w3.org/2000/svg\" xmlns:xlink=\"http://www.w3.org/1999/xlink\">\n",
       "<g id=\"graph0\" class=\"graph\" transform=\"scale(1 1) rotate(0) translate(4 161)\">\n",
       "<title>Tree</title>\n",
       "<polygon fill=\"#ffffff\" stroke=\"transparent\" points=\"-4,4 -4,-161 294,-161 294,4 -4,4\"/>\n",
       "<!-- 0 -->\n",
       "<g id=\"node1\" class=\"node\">\n",
       "<title>0</title>\n",
       "<path fill=\"#eeab7b\" stroke=\"#000000\" d=\"M258.5,-157C258.5,-157 27.5,-157 27.5,-157 21.5,-157 15.5,-151 15.5,-145 15.5,-145 15.5,-101 15.5,-101 15.5,-95 21.5,-89 27.5,-89 27.5,-89 258.5,-89 258.5,-89 264.5,-89 270.5,-95 270.5,-101 270.5,-101 270.5,-145 270.5,-145 270.5,-151 264.5,-157 258.5,-157\"/>\n",
       "<text text-anchor=\"start\" x=\"23.5\" y=\"-141.8\" font-family=\"Helvetica,sans-Serif\" font-size=\"14.00\" fill=\"#000000\">marital.status_Married&#45;civ&#45;spouse ≤ 0.5</text>\n",
       "<text text-anchor=\"start\" x=\"107.5\" y=\"-126.8\" font-family=\"Helvetica,sans-Serif\" font-size=\"14.00\" fill=\"#000000\">gini = 0.374</text>\n",
       "<text text-anchor=\"start\" x=\"90.5\" y=\"-111.8\" font-family=\"Helvetica,sans-Serif\" font-size=\"14.00\" fill=\"#000000\">samples = 10239</text>\n",
       "<text text-anchor=\"start\" x=\"81\" y=\"-96.8\" font-family=\"Helvetica,sans-Serif\" font-size=\"14.00\" fill=\"#000000\">value = [7689, 2550]</text>\n",
       "</g>\n",
       "<!-- 1 -->\n",
       "<g id=\"node2\" class=\"node\">\n",
       "<title>1</title>\n",
       "<path fill=\"#e78a47\" stroke=\"#000000\" d=\"M120,-53C120,-53 12,-53 12,-53 6,-53 0,-47 0,-41 0,-41 0,-12 0,-12 0,-6 6,0 12,0 12,0 120,0 120,0 126,0 132,-6 132,-12 132,-12 132,-41 132,-41 132,-47 126,-53 120,-53\"/>\n",
       "<text text-anchor=\"start\" x=\"30.5\" y=\"-37.8\" font-family=\"Helvetica,sans-Serif\" font-size=\"14.00\" fill=\"#000000\">gini = 0.125</text>\n",
       "<text text-anchor=\"start\" x=\"17.5\" y=\"-22.8\" font-family=\"Helvetica,sans-Serif\" font-size=\"14.00\" fill=\"#000000\">samples = 5470</text>\n",
       "<text text-anchor=\"start\" x=\"8\" y=\"-7.8\" font-family=\"Helvetica,sans-Serif\" font-size=\"14.00\" fill=\"#000000\">value = [5105, 365]</text>\n",
       "</g>\n",
       "<!-- 0&#45;&gt;1 -->\n",
       "<g id=\"edge1\" class=\"edge\">\n",
       "<title>0&#45;&gt;1</title>\n",
       "<path fill=\"none\" stroke=\"#000000\" d=\"M115.8527,-88.9777C108.6922,-80.0039 100.9564,-70.3089 93.7639,-61.295\"/>\n",
       "<polygon fill=\"#000000\" stroke=\"#000000\" points=\"96.3163,-58.8821 87.3433,-53.2485 90.8446,-63.2481 96.3163,-58.8821\"/>\n",
       "<text text-anchor=\"middle\" x=\"84.5511\" y=\"-74.3921\" font-family=\"Helvetica,sans-Serif\" font-size=\"14.00\" fill=\"#000000\">True</text>\n",
       "</g>\n",
       "<!-- 2 -->\n",
       "<g id=\"node3\" class=\"node\">\n",
       "<title>2</title>\n",
       "<path fill=\"#fbece0\" stroke=\"#000000\" d=\"M278,-53C278,-53 162,-53 162,-53 156,-53 150,-47 150,-41 150,-41 150,-12 150,-12 150,-6 156,0 162,0 162,0 278,0 278,0 284,0 290,-6 290,-12 290,-12 290,-41 290,-41 290,-47 284,-53 278,-53\"/>\n",
       "<text text-anchor=\"start\" x=\"184.5\" y=\"-37.8\" font-family=\"Helvetica,sans-Serif\" font-size=\"14.00\" fill=\"#000000\">gini = 0.497</text>\n",
       "<text text-anchor=\"start\" x=\"171.5\" y=\"-22.8\" font-family=\"Helvetica,sans-Serif\" font-size=\"14.00\" fill=\"#000000\">samples = 4769</text>\n",
       "<text text-anchor=\"start\" x=\"158\" y=\"-7.8\" font-family=\"Helvetica,sans-Serif\" font-size=\"14.00\" fill=\"#000000\">value = [2584, 2185]</text>\n",
       "</g>\n",
       "<!-- 0&#45;&gt;2 -->\n",
       "<g id=\"edge2\" class=\"edge\">\n",
       "<title>0&#45;&gt;2</title>\n",
       "<path fill=\"none\" stroke=\"#000000\" d=\"M170.1473,-88.9777C177.3078,-80.0039 185.0436,-70.3089 192.2361,-61.295\"/>\n",
       "<polygon fill=\"#000000\" stroke=\"#000000\" points=\"195.1554,-63.2481 198.6567,-53.2485 189.6837,-58.8821 195.1554,-63.2481\"/>\n",
       "<text text-anchor=\"middle\" x=\"201.4489\" y=\"-74.3921\" font-family=\"Helvetica,sans-Serif\" font-size=\"14.00\" fill=\"#000000\">False</text>\n",
       "</g>\n",
       "</g>\n",
       "</svg>\n"
      ],
      "text/plain": [
       "<graphviz.files.Source at 0x7f72f74b8b90>"
      ]
     },
     "execution_count": 3,
     "metadata": {},
     "output_type": "execute_result"
    }
   ],
   "source": [
    "tree = DecisionTreeClassifier(max_depth=1)\n",
    "tree.fit(X_train, y_train)\n",
    "\n",
    "dot_data = export_graphviz(tree, out_file=None, \n",
    "                     feature_names=X_train.columns,  \n",
    "#                      class_names=iris.target_names,  \n",
    "                     filled=True, rounded=True,  \n",
    "                     special_characters=True)  \n",
    "graph = graphviz.Source(dot_data)  \n",
    "graph"
   ]
  },
  {
   "cell_type": "code",
   "execution_count": 4,
   "metadata": {
    "ExecuteTime": {
     "end_time": "2020-03-11T09:32:17.551980Z",
     "start_time": "2020-03-11T09:32:17.465021Z"
    }
   },
   "outputs": [
    {
     "data": {
      "image/svg+xml": [
       "<?xml version=\"1.0\" encoding=\"UTF-8\" standalone=\"no\"?>\n",
       "<!DOCTYPE svg PUBLIC \"-//W3C//DTD SVG 1.1//EN\"\n",
       " \"http://www.w3.org/Graphics/SVG/1.1/DTD/svg11.dtd\">\n",
       "<!-- Generated by graphviz version 2.40.1 (20161225.0304)\n",
       " -->\n",
       "<!-- Title: Tree Pages: 1 -->\n",
       "<svg width=\"580pt\" height=\"269pt\"\n",
       " viewBox=\"0.00 0.00 580.00 269.00\" xmlns=\"http://www.w3.org/2000/svg\" xmlns:xlink=\"http://www.w3.org/1999/xlink\">\n",
       "<g id=\"graph0\" class=\"graph\" transform=\"scale(1 1) rotate(0) translate(4 265)\">\n",
       "<title>Tree</title>\n",
       "<polygon fill=\"#ffffff\" stroke=\"transparent\" points=\"-4,4 -4,-265 576,-265 576,4 -4,4\"/>\n",
       "<!-- 0 -->\n",
       "<g id=\"node1\" class=\"node\">\n",
       "<title>0</title>\n",
       "<path fill=\"#eeab7b\" stroke=\"#000000\" d=\"M391.5,-261C391.5,-261 160.5,-261 160.5,-261 154.5,-261 148.5,-255 148.5,-249 148.5,-249 148.5,-205 148.5,-205 148.5,-199 154.5,-193 160.5,-193 160.5,-193 391.5,-193 391.5,-193 397.5,-193 403.5,-199 403.5,-205 403.5,-205 403.5,-249 403.5,-249 403.5,-255 397.5,-261 391.5,-261\"/>\n",
       "<text text-anchor=\"start\" x=\"156.5\" y=\"-245.8\" font-family=\"Helvetica,sans-Serif\" font-size=\"14.00\" fill=\"#000000\">marital.status_Married&#45;civ&#45;spouse ≤ 0.5</text>\n",
       "<text text-anchor=\"start\" x=\"240.5\" y=\"-230.8\" font-family=\"Helvetica,sans-Serif\" font-size=\"14.00\" fill=\"#000000\">gini = 0.374</text>\n",
       "<text text-anchor=\"start\" x=\"223.5\" y=\"-215.8\" font-family=\"Helvetica,sans-Serif\" font-size=\"14.00\" fill=\"#000000\">samples = 10239</text>\n",
       "<text text-anchor=\"start\" x=\"214\" y=\"-200.8\" font-family=\"Helvetica,sans-Serif\" font-size=\"14.00\" fill=\"#000000\">value = [7689, 2550]</text>\n",
       "</g>\n",
       "<!-- 1 -->\n",
       "<g id=\"node2\" class=\"node\">\n",
       "<title>1</title>\n",
       "<path fill=\"#e78a47\" stroke=\"#000000\" d=\"M254,-157C254,-157 136,-157 136,-157 130,-157 124,-151 124,-145 124,-145 124,-101 124,-101 124,-95 130,-89 136,-89 136,-89 254,-89 254,-89 260,-89 266,-95 266,-101 266,-101 266,-145 266,-145 266,-151 260,-157 254,-157\"/>\n",
       "<text text-anchor=\"start\" x=\"132\" y=\"-141.8\" font-family=\"Helvetica,sans-Serif\" font-size=\"14.00\" fill=\"#000000\">capital.gain ≤ 7139.5</text>\n",
       "<text text-anchor=\"start\" x=\"159.5\" y=\"-126.8\" font-family=\"Helvetica,sans-Serif\" font-size=\"14.00\" fill=\"#000000\">gini = 0.125</text>\n",
       "<text text-anchor=\"start\" x=\"146.5\" y=\"-111.8\" font-family=\"Helvetica,sans-Serif\" font-size=\"14.00\" fill=\"#000000\">samples = 5470</text>\n",
       "<text text-anchor=\"start\" x=\"137\" y=\"-96.8\" font-family=\"Helvetica,sans-Serif\" font-size=\"14.00\" fill=\"#000000\">value = [5105, 365]</text>\n",
       "</g>\n",
       "<!-- 0&#45;&gt;1 -->\n",
       "<g id=\"edge1\" class=\"edge\">\n",
       "<title>0&#45;&gt;1</title>\n",
       "<path fill=\"none\" stroke=\"#000000\" d=\"M249.4776,-192.9465C242.5546,-184.0578 235.0106,-174.3716 227.804,-165.1188\"/>\n",
       "<polygon fill=\"#000000\" stroke=\"#000000\" points=\"230.488,-162.8688 221.582,-157.13 224.9654,-167.1701 230.488,-162.8688\"/>\n",
       "<text text-anchor=\"middle\" x=\"218.4977\" y=\"-178.239\" font-family=\"Helvetica,sans-Serif\" font-size=\"14.00\" fill=\"#000000\">True</text>\n",
       "</g>\n",
       "<!-- 4 -->\n",
       "<g id=\"node5\" class=\"node\">\n",
       "<title>4</title>\n",
       "<path fill=\"#fbece0\" stroke=\"#000000\" d=\"M420,-157C420,-157 296,-157 296,-157 290,-157 284,-151 284,-145 284,-145 284,-101 284,-101 284,-95 290,-89 296,-89 296,-89 420,-89 420,-89 426,-89 432,-95 432,-101 432,-101 432,-145 432,-145 432,-151 426,-157 420,-157\"/>\n",
       "<text text-anchor=\"start\" x=\"292\" y=\"-141.8\" font-family=\"Helvetica,sans-Serif\" font-size=\"14.00\" fill=\"#000000\">education.num ≤ 12.5</text>\n",
       "<text text-anchor=\"start\" x=\"322.5\" y=\"-126.8\" font-family=\"Helvetica,sans-Serif\" font-size=\"14.00\" fill=\"#000000\">gini = 0.497</text>\n",
       "<text text-anchor=\"start\" x=\"309.5\" y=\"-111.8\" font-family=\"Helvetica,sans-Serif\" font-size=\"14.00\" fill=\"#000000\">samples = 4769</text>\n",
       "<text text-anchor=\"start\" x=\"296\" y=\"-96.8\" font-family=\"Helvetica,sans-Serif\" font-size=\"14.00\" fill=\"#000000\">value = [2584, 2185]</text>\n",
       "</g>\n",
       "<!-- 0&#45;&gt;4 -->\n",
       "<g id=\"edge4\" class=\"edge\">\n",
       "<title>0&#45;&gt;4</title>\n",
       "<path fill=\"none\" stroke=\"#000000\" d=\"M302.8499,-192.9465C309.8583,-184.0578 317.4955,-174.3716 324.791,-165.1188\"/>\n",
       "<polygon fill=\"#000000\" stroke=\"#000000\" points=\"327.6467,-167.1498 331.0898,-157.13 322.1498,-162.8157 327.6467,-167.1498\"/>\n",
       "<text text-anchor=\"middle\" x=\"334.0263\" y=\"-178.2569\" font-family=\"Helvetica,sans-Serif\" font-size=\"14.00\" fill=\"#000000\">False</text>\n",
       "</g>\n",
       "<!-- 2 -->\n",
       "<g id=\"node3\" class=\"node\">\n",
       "<title>2</title>\n",
       "<path fill=\"#e68844\" stroke=\"#000000\" d=\"M120,-53C120,-53 12,-53 12,-53 6,-53 0,-47 0,-41 0,-41 0,-12 0,-12 0,-6 6,0 12,0 12,0 120,0 120,0 126,0 132,-6 132,-12 132,-12 132,-41 132,-41 132,-47 126,-53 120,-53\"/>\n",
       "<text text-anchor=\"start\" x=\"30.5\" y=\"-37.8\" font-family=\"Helvetica,sans-Serif\" font-size=\"14.00\" fill=\"#000000\">gini = 0.098</text>\n",
       "<text text-anchor=\"start\" x=\"17.5\" y=\"-22.8\" font-family=\"Helvetica,sans-Serif\" font-size=\"14.00\" fill=\"#000000\">samples = 5380</text>\n",
       "<text text-anchor=\"start\" x=\"8\" y=\"-7.8\" font-family=\"Helvetica,sans-Serif\" font-size=\"14.00\" fill=\"#000000\">value = [5103, 277]</text>\n",
       "</g>\n",
       "<!-- 1&#45;&gt;2 -->\n",
       "<g id=\"edge2\" class=\"edge\">\n",
       "<title>1&#45;&gt;2</title>\n",
       "<path fill=\"none\" stroke=\"#000000\" d=\"M149.5194,-88.9777C136.6665,-79.3629 122.7069,-68.9203 109.946,-59.3743\"/>\n",
       "<polygon fill=\"#000000\" stroke=\"#000000\" points=\"111.861,-56.436 101.757,-53.2485 107.668,-62.0412 111.861,-56.436\"/>\n",
       "</g>\n",
       "<!-- 3 -->\n",
       "<g id=\"node4\" class=\"node\">\n",
       "<title>3</title>\n",
       "<path fill=\"#3d9fe6\" stroke=\"#000000\" d=\"M240,-53C240,-53 162,-53 162,-53 156,-53 150,-47 150,-41 150,-41 150,-12 150,-12 150,-6 156,0 162,0 162,0 240,0 240,0 246,0 252,-6 252,-12 252,-12 252,-41 252,-41 252,-47 246,-53 240,-53\"/>\n",
       "<text text-anchor=\"start\" x=\"165.5\" y=\"-37.8\" font-family=\"Helvetica,sans-Serif\" font-size=\"14.00\" fill=\"#000000\">gini = 0.043</text>\n",
       "<text text-anchor=\"start\" x=\"160\" y=\"-22.8\" font-family=\"Helvetica,sans-Serif\" font-size=\"14.00\" fill=\"#000000\">samples = 90</text>\n",
       "<text text-anchor=\"start\" x=\"158\" y=\"-7.8\" font-family=\"Helvetica,sans-Serif\" font-size=\"14.00\" fill=\"#000000\">value = [2, 88]</text>\n",
       "</g>\n",
       "<!-- 1&#45;&gt;3 -->\n",
       "<g id=\"edge3\" class=\"edge\">\n",
       "<title>1&#45;&gt;3</title>\n",
       "<path fill=\"none\" stroke=\"#000000\" d=\"M197.1154,-88.9777C197.6335,-80.6449 198.1902,-71.6903 198.7159,-63.2364\"/>\n",
       "<polygon fill=\"#000000\" stroke=\"#000000\" points=\"202.2095,-63.4464 199.3369,-53.2485 195.223,-63.012 202.2095,-63.4464\"/>\n",
       "</g>\n",
       "<!-- 5 -->\n",
       "<g id=\"node6\" class=\"node\">\n",
       "<title>5</title>\n",
       "<path fill=\"#f2c19e\" stroke=\"#000000\" d=\"M410,-53C410,-53 294,-53 294,-53 288,-53 282,-47 282,-41 282,-41 282,-12 282,-12 282,-6 288,0 294,0 294,0 410,0 410,0 416,0 422,-6 422,-12 422,-12 422,-41 422,-41 422,-47 416,-53 410,-53\"/>\n",
       "<text text-anchor=\"start\" x=\"316.5\" y=\"-37.8\" font-family=\"Helvetica,sans-Serif\" font-size=\"14.00\" fill=\"#000000\">gini = 0.448</text>\n",
       "<text text-anchor=\"start\" x=\"303.5\" y=\"-22.8\" font-family=\"Helvetica,sans-Serif\" font-size=\"14.00\" fill=\"#000000\">samples = 3329</text>\n",
       "<text text-anchor=\"start\" x=\"290\" y=\"-7.8\" font-family=\"Helvetica,sans-Serif\" font-size=\"14.00\" fill=\"#000000\">value = [2203, 1126]</text>\n",
       "</g>\n",
       "<!-- 4&#45;&gt;5 -->\n",
       "<g id=\"edge5\" class=\"edge\">\n",
       "<title>4&#45;&gt;5</title>\n",
       "<path fill=\"none\" stroke=\"#000000\" d=\"M355.8846,-88.9777C355.3665,-80.6449 354.8098,-71.6903 354.2841,-63.2364\"/>\n",
       "<polygon fill=\"#000000\" stroke=\"#000000\" points=\"357.777,-63.012 353.6631,-53.2485 350.7905,-63.4464 357.777,-63.012\"/>\n",
       "</g>\n",
       "<!-- 6 -->\n",
       "<g id=\"node7\" class=\"node\">\n",
       "<title>6</title>\n",
       "<path fill=\"#80c0ee\" stroke=\"#000000\" d=\"M560,-53C560,-53 452,-53 452,-53 446,-53 440,-47 440,-41 440,-41 440,-12 440,-12 440,-6 446,0 452,0 452,0 560,0 560,0 566,0 572,-6 572,-12 572,-12 572,-41 572,-41 572,-47 566,-53 560,-53\"/>\n",
       "<text text-anchor=\"start\" x=\"470.5\" y=\"-37.8\" font-family=\"Helvetica,sans-Serif\" font-size=\"14.00\" fill=\"#000000\">gini = 0.389</text>\n",
       "<text text-anchor=\"start\" x=\"457.5\" y=\"-22.8\" font-family=\"Helvetica,sans-Serif\" font-size=\"14.00\" fill=\"#000000\">samples = 1440</text>\n",
       "<text text-anchor=\"start\" x=\"448\" y=\"-7.8\" font-family=\"Helvetica,sans-Serif\" font-size=\"14.00\" fill=\"#000000\">value = [381, 1059]</text>\n",
       "</g>\n",
       "<!-- 4&#45;&gt;6 -->\n",
       "<g id=\"edge6\" class=\"edge\">\n",
       "<title>4&#45;&gt;6</title>\n",
       "<path fill=\"none\" stroke=\"#000000\" d=\"M410.1793,-88.9777C425.2062,-79.1798 441.5515,-68.5222 456.4164,-58.8298\"/>\n",
       "<polygon fill=\"#000000\" stroke=\"#000000\" points=\"458.5114,-61.6422 464.9764,-53.2485 454.6881,-55.7785 458.5114,-61.6422\"/>\n",
       "</g>\n",
       "</g>\n",
       "</svg>\n"
      ],
      "text/plain": [
       "<graphviz.files.Source at 0x7f72f759b2d0>"
      ]
     },
     "execution_count": 4,
     "metadata": {},
     "output_type": "execute_result"
    }
   ],
   "source": [
    "tree = DecisionTreeClassifier(max_depth=2)\n",
    "tree.fit(X_train, y_train)\n",
    "\n",
    "dot_data = export_graphviz(tree, out_file=None, \n",
    "                     feature_names=X_train.columns,  \n",
    "#                      class_names=iris.target_names,  \n",
    "                     filled=True, rounded=True,  \n",
    "                     special_characters=True)  \n",
    "graph = graphviz.Source(dot_data)  \n",
    "graph"
   ]
  },
  {
   "cell_type": "code",
   "execution_count": 12,
   "metadata": {
    "ExecuteTime": {
     "end_time": "2020-03-11T07:35:55.894195Z",
     "start_time": "2020-03-11T07:35:55.833569Z"
    },
    "scrolled": false
   },
   "outputs": [
    {
     "data": {
      "image/svg+xml": [
       "<?xml version=\"1.0\" encoding=\"UTF-8\" standalone=\"no\"?>\n",
       "<!DOCTYPE svg PUBLIC \"-//W3C//DTD SVG 1.1//EN\"\n",
       " \"http://www.w3.org/Graphics/SVG/1.1/DTD/svg11.dtd\">\n",
       "<!-- Generated by graphviz version 2.40.1 (20161225.0304)\n",
       " -->\n",
       "<!-- Title: Tree Pages: 1 -->\n",
       "<svg width=\"1068pt\" height=\"373pt\"\n",
       " viewBox=\"0.00 0.00 1068.00 373.00\" xmlns=\"http://www.w3.org/2000/svg\" xmlns:xlink=\"http://www.w3.org/1999/xlink\">\n",
       "<g id=\"graph0\" class=\"graph\" transform=\"scale(1 1) rotate(0) translate(4 369)\">\n",
       "<title>Tree</title>\n",
       "<polygon fill=\"#ffffff\" stroke=\"transparent\" points=\"-4,4 -4,-369 1064,-369 1064,4 -4,4\"/>\n",
       "<!-- 0 -->\n",
       "<g id=\"node1\" class=\"node\">\n",
       "<title>0</title>\n",
       "<path fill=\"#eeab7b\" stroke=\"#000000\" d=\"M680.5,-365C680.5,-365 449.5,-365 449.5,-365 443.5,-365 437.5,-359 437.5,-353 437.5,-353 437.5,-309 437.5,-309 437.5,-303 443.5,-297 449.5,-297 449.5,-297 680.5,-297 680.5,-297 686.5,-297 692.5,-303 692.5,-309 692.5,-309 692.5,-353 692.5,-353 692.5,-359 686.5,-365 680.5,-365\"/>\n",
       "<text text-anchor=\"start\" x=\"445.5\" y=\"-349.8\" font-family=\"Helvetica,sans-Serif\" font-size=\"14.00\" fill=\"#000000\">marital.status_Married&#45;civ&#45;spouse ≤ 0.5</text>\n",
       "<text text-anchor=\"start\" x=\"529.5\" y=\"-334.8\" font-family=\"Helvetica,sans-Serif\" font-size=\"14.00\" fill=\"#000000\">gini = 0.374</text>\n",
       "<text text-anchor=\"start\" x=\"512.5\" y=\"-319.8\" font-family=\"Helvetica,sans-Serif\" font-size=\"14.00\" fill=\"#000000\">samples = 10239</text>\n",
       "<text text-anchor=\"start\" x=\"503\" y=\"-304.8\" font-family=\"Helvetica,sans-Serif\" font-size=\"14.00\" fill=\"#000000\">value = [7689, 2550]</text>\n",
       "</g>\n",
       "<!-- 1 -->\n",
       "<g id=\"node2\" class=\"node\">\n",
       "<title>1</title>\n",
       "<path fill=\"#e78a47\" stroke=\"#000000\" d=\"M501,-261C501,-261 383,-261 383,-261 377,-261 371,-255 371,-249 371,-249 371,-205 371,-205 371,-199 377,-193 383,-193 383,-193 501,-193 501,-193 507,-193 513,-199 513,-205 513,-205 513,-249 513,-249 513,-255 507,-261 501,-261\"/>\n",
       "<text text-anchor=\"start\" x=\"379\" y=\"-245.8\" font-family=\"Helvetica,sans-Serif\" font-size=\"14.00\" fill=\"#000000\">capital.gain ≤ 7139.5</text>\n",
       "<text text-anchor=\"start\" x=\"406.5\" y=\"-230.8\" font-family=\"Helvetica,sans-Serif\" font-size=\"14.00\" fill=\"#000000\">gini = 0.125</text>\n",
       "<text text-anchor=\"start\" x=\"393.5\" y=\"-215.8\" font-family=\"Helvetica,sans-Serif\" font-size=\"14.00\" fill=\"#000000\">samples = 5470</text>\n",
       "<text text-anchor=\"start\" x=\"384\" y=\"-200.8\" font-family=\"Helvetica,sans-Serif\" font-size=\"14.00\" fill=\"#000000\">value = [5105, 365]</text>\n",
       "</g>\n",
       "<!-- 0&#45;&gt;1 -->\n",
       "<g id=\"edge1\" class=\"edge\">\n",
       "<title>0&#45;&gt;1</title>\n",
       "<path fill=\"none\" stroke=\"#000000\" d=\"M524.7252,-296.9465C513.6816,-287.6088 501.5972,-277.3911 490.1596,-267.7203\"/>\n",
       "<polygon fill=\"#000000\" stroke=\"#000000\" points=\"492.2614,-264.914 482.3653,-261.13 487.7417,-270.2594 492.2614,-264.914\"/>\n",
       "<text text-anchor=\"middle\" x=\"484.4505\" y=\"-282.3429\" font-family=\"Helvetica,sans-Serif\" font-size=\"14.00\" fill=\"#000000\">True</text>\n",
       "</g>\n",
       "<!-- 8 -->\n",
       "<g id=\"node9\" class=\"node\">\n",
       "<title>8</title>\n",
       "<path fill=\"#fbece0\" stroke=\"#000000\" d=\"M741,-261C741,-261 617,-261 617,-261 611,-261 605,-255 605,-249 605,-249 605,-205 605,-205 605,-199 611,-193 617,-193 617,-193 741,-193 741,-193 747,-193 753,-199 753,-205 753,-205 753,-249 753,-249 753,-255 747,-261 741,-261\"/>\n",
       "<text text-anchor=\"start\" x=\"613\" y=\"-245.8\" font-family=\"Helvetica,sans-Serif\" font-size=\"14.00\" fill=\"#000000\">education.num ≤ 12.5</text>\n",
       "<text text-anchor=\"start\" x=\"643.5\" y=\"-230.8\" font-family=\"Helvetica,sans-Serif\" font-size=\"14.00\" fill=\"#000000\">gini = 0.497</text>\n",
       "<text text-anchor=\"start\" x=\"630.5\" y=\"-215.8\" font-family=\"Helvetica,sans-Serif\" font-size=\"14.00\" fill=\"#000000\">samples = 4769</text>\n",
       "<text text-anchor=\"start\" x=\"617\" y=\"-200.8\" font-family=\"Helvetica,sans-Serif\" font-size=\"14.00\" fill=\"#000000\">value = [2584, 2185]</text>\n",
       "</g>\n",
       "<!-- 0&#45;&gt;8 -->\n",
       "<g id=\"edge8\" class=\"edge\">\n",
       "<title>0&#45;&gt;8</title>\n",
       "<path fill=\"none\" stroke=\"#000000\" d=\"M602.3279,-296.9465C612.465,-287.6986 623.5483,-277.5876 634.0583,-267.9994\"/>\n",
       "<polygon fill=\"#000000\" stroke=\"#000000\" points=\"636.5595,-270.4553 641.5883,-261.13 631.8417,-265.284 636.5595,-270.4553\"/>\n",
       "<text text-anchor=\"middle\" x=\"640.4427\" y=\"-282.4037\" font-family=\"Helvetica,sans-Serif\" font-size=\"14.00\" fill=\"#000000\">False</text>\n",
       "</g>\n",
       "<!-- 2 -->\n",
       "<g id=\"node3\" class=\"node\">\n",
       "<title>2</title>\n",
       "<path fill=\"#e68844\" stroke=\"#000000\" d=\"M275,-157C275,-157 151,-157 151,-157 145,-157 139,-151 139,-145 139,-145 139,-101 139,-101 139,-95 145,-89 151,-89 151,-89 275,-89 275,-89 281,-89 287,-95 287,-101 287,-101 287,-145 287,-145 287,-151 281,-157 275,-157\"/>\n",
       "<text text-anchor=\"start\" x=\"147\" y=\"-141.8\" font-family=\"Helvetica,sans-Serif\" font-size=\"14.00\" fill=\"#000000\">education.num ≤ 12.5</text>\n",
       "<text text-anchor=\"start\" x=\"177.5\" y=\"-126.8\" font-family=\"Helvetica,sans-Serif\" font-size=\"14.00\" fill=\"#000000\">gini = 0.098</text>\n",
       "<text text-anchor=\"start\" x=\"164.5\" y=\"-111.8\" font-family=\"Helvetica,sans-Serif\" font-size=\"14.00\" fill=\"#000000\">samples = 5380</text>\n",
       "<text text-anchor=\"start\" x=\"155\" y=\"-96.8\" font-family=\"Helvetica,sans-Serif\" font-size=\"14.00\" fill=\"#000000\">value = [5103, 277]</text>\n",
       "</g>\n",
       "<!-- 1&#45;&gt;2 -->\n",
       "<g id=\"edge2\" class=\"edge\">\n",
       "<title>1&#45;&gt;2</title>\n",
       "<path fill=\"none\" stroke=\"#000000\" d=\"M370.7983,-194.6638C347.2809,-183.9835 320.9057,-172.0052 296.5504,-160.9443\"/>\n",
       "<polygon fill=\"#000000\" stroke=\"#000000\" points=\"297.8773,-157.7029 287.325,-156.7546 294.9828,-164.0764 297.8773,-157.7029\"/>\n",
       "</g>\n",
       "<!-- 5 -->\n",
       "<g id=\"node6\" class=\"node\">\n",
       "<title>5</title>\n",
       "<path fill=\"#3d9fe6\" stroke=\"#000000\" d=\"M546.5,-157C546.5,-157 337.5,-157 337.5,-157 331.5,-157 325.5,-151 325.5,-145 325.5,-145 325.5,-101 325.5,-101 325.5,-95 331.5,-89 337.5,-89 337.5,-89 546.5,-89 546.5,-89 552.5,-89 558.5,-95 558.5,-101 558.5,-101 558.5,-145 558.5,-145 558.5,-151 552.5,-157 546.5,-157\"/>\n",
       "<text text-anchor=\"start\" x=\"333.5\" y=\"-141.8\" font-family=\"Helvetica,sans-Serif\" font-size=\"14.00\" fill=\"#000000\">occupation_Handlers&#45;cleaners ≤ 0.5</text>\n",
       "<text text-anchor=\"start\" x=\"406.5\" y=\"-126.8\" font-family=\"Helvetica,sans-Serif\" font-size=\"14.00\" fill=\"#000000\">gini = 0.043</text>\n",
       "<text text-anchor=\"start\" x=\"401\" y=\"-111.8\" font-family=\"Helvetica,sans-Serif\" font-size=\"14.00\" fill=\"#000000\">samples = 90</text>\n",
       "<text text-anchor=\"start\" x=\"399\" y=\"-96.8\" font-family=\"Helvetica,sans-Serif\" font-size=\"14.00\" fill=\"#000000\">value = [2, 88]</text>\n",
       "</g>\n",
       "<!-- 1&#45;&gt;5 -->\n",
       "<g id=\"edge5\" class=\"edge\">\n",
       "<title>1&#45;&gt;5</title>\n",
       "<path fill=\"none\" stroke=\"#000000\" d=\"M442,-192.9465C442,-184.776 442,-175.9318 442,-167.3697\"/>\n",
       "<polygon fill=\"#000000\" stroke=\"#000000\" points=\"445.5001,-167.13 442,-157.13 438.5001,-167.13 445.5001,-167.13\"/>\n",
       "</g>\n",
       "<!-- 3 -->\n",
       "<g id=\"node4\" class=\"node\">\n",
       "<title>3</title>\n",
       "<path fill=\"#e6843e\" stroke=\"#000000\" d=\"M120,-53C120,-53 12,-53 12,-53 6,-53 0,-47 0,-41 0,-41 0,-12 0,-12 0,-6 6,0 12,0 12,0 120,0 120,0 126,0 132,-6 132,-12 132,-12 132,-41 132,-41 132,-47 126,-53 120,-53\"/>\n",
       "<text text-anchor=\"start\" x=\"30.5\" y=\"-37.8\" font-family=\"Helvetica,sans-Serif\" font-size=\"14.00\" fill=\"#000000\">gini = 0.051</text>\n",
       "<text text-anchor=\"start\" x=\"17.5\" y=\"-22.8\" font-family=\"Helvetica,sans-Serif\" font-size=\"14.00\" fill=\"#000000\">samples = 4281</text>\n",
       "<text text-anchor=\"start\" x=\"8\" y=\"-7.8\" font-family=\"Helvetica,sans-Serif\" font-size=\"14.00\" fill=\"#000000\">value = [4170, 111]</text>\n",
       "</g>\n",
       "<!-- 2&#45;&gt;3 -->\n",
       "<g id=\"edge3\" class=\"edge\">\n",
       "<title>2&#45;&gt;3</title>\n",
       "<path fill=\"none\" stroke=\"#000000\" d=\"M161.1733,-88.9777C146.2479,-79.1798 130.013,-68.5222 115.2486,-58.8298\"/>\n",
       "<polygon fill=\"#000000\" stroke=\"#000000\" points=\"117.0268,-55.8104 106.7464,-53.2485 113.1853,-61.6622 117.0268,-55.8104\"/>\n",
       "</g>\n",
       "<!-- 4 -->\n",
       "<g id=\"node5\" class=\"node\">\n",
       "<title>4</title>\n",
       "<path fill=\"#ea975c\" stroke=\"#000000\" d=\"M263.5,-53C263.5,-53 162.5,-53 162.5,-53 156.5,-53 150.5,-47 150.5,-41 150.5,-41 150.5,-12 150.5,-12 150.5,-6 156.5,0 162.5,0 162.5,0 263.5,0 263.5,0 269.5,0 275.5,-6 275.5,-12 275.5,-12 275.5,-41 275.5,-41 275.5,-47 269.5,-53 263.5,-53\"/>\n",
       "<text text-anchor=\"start\" x=\"177.5\" y=\"-37.8\" font-family=\"Helvetica,sans-Serif\" font-size=\"14.00\" fill=\"#000000\">gini = 0.256</text>\n",
       "<text text-anchor=\"start\" x=\"164.5\" y=\"-22.8\" font-family=\"Helvetica,sans-Serif\" font-size=\"14.00\" fill=\"#000000\">samples = 1099</text>\n",
       "<text text-anchor=\"start\" x=\"158.5\" y=\"-7.8\" font-family=\"Helvetica,sans-Serif\" font-size=\"14.00\" fill=\"#000000\">value = [933, 166]</text>\n",
       "</g>\n",
       "<!-- 2&#45;&gt;4 -->\n",
       "<g id=\"edge4\" class=\"edge\">\n",
       "<title>2&#45;&gt;4</title>\n",
       "<path fill=\"none\" stroke=\"#000000\" d=\"M213,-88.9777C213,-80.7364 213,-71.887 213,-63.5153\"/>\n",
       "<polygon fill=\"#000000\" stroke=\"#000000\" points=\"216.5001,-63.2484 213,-53.2485 209.5001,-63.2485 216.5001,-63.2484\"/>\n",
       "</g>\n",
       "<!-- 6 -->\n",
       "<g id=\"node7\" class=\"node\">\n",
       "<title>6</title>\n",
       "<path fill=\"#3b9ee5\" stroke=\"#000000\" d=\"M384,-53C384,-53 306,-53 306,-53 300,-53 294,-47 294,-41 294,-41 294,-12 294,-12 294,-6 300,0 306,0 306,0 384,0 384,0 390,0 396,-6 396,-12 396,-12 396,-41 396,-41 396,-47 390,-53 384,-53\"/>\n",
       "<text text-anchor=\"start\" x=\"309.5\" y=\"-37.8\" font-family=\"Helvetica,sans-Serif\" font-size=\"14.00\" fill=\"#000000\">gini = 0.022</text>\n",
       "<text text-anchor=\"start\" x=\"304\" y=\"-22.8\" font-family=\"Helvetica,sans-Serif\" font-size=\"14.00\" fill=\"#000000\">samples = 89</text>\n",
       "<text text-anchor=\"start\" x=\"302\" y=\"-7.8\" font-family=\"Helvetica,sans-Serif\" font-size=\"14.00\" fill=\"#000000\">value = [1, 88]</text>\n",
       "</g>\n",
       "<!-- 5&#45;&gt;6 -->\n",
       "<g id=\"edge6\" class=\"edge\">\n",
       "<title>5&#45;&gt;6</title>\n",
       "<path fill=\"none\" stroke=\"#000000\" d=\"M407.8014,-88.9777C398.505,-79.7292 388.4386,-69.7147 379.1451,-60.4691\"/>\n",
       "<polygon fill=\"#000000\" stroke=\"#000000\" points=\"381.4449,-57.82 371.8871,-53.2485 376.5079,-62.7825 381.4449,-57.82\"/>\n",
       "</g>\n",
       "<!-- 7 -->\n",
       "<g id=\"node8\" class=\"node\">\n",
       "<title>7</title>\n",
       "<path fill=\"#e58139\" stroke=\"#000000\" d=\"M497.5,-53C497.5,-53 426.5,-53 426.5,-53 420.5,-53 414.5,-47 414.5,-41 414.5,-41 414.5,-12 414.5,-12 414.5,-6 420.5,0 426.5,0 426.5,0 497.5,0 497.5,0 503.5,0 509.5,-6 509.5,-12 509.5,-12 509.5,-41 509.5,-41 509.5,-47 503.5,-53 497.5,-53\"/>\n",
       "<text text-anchor=\"start\" x=\"434\" y=\"-37.8\" font-family=\"Helvetica,sans-Serif\" font-size=\"14.00\" fill=\"#000000\">gini = 0.0</text>\n",
       "<text text-anchor=\"start\" x=\"424.5\" y=\"-22.8\" font-family=\"Helvetica,sans-Serif\" font-size=\"14.00\" fill=\"#000000\">samples = 1</text>\n",
       "<text text-anchor=\"start\" x=\"422.5\" y=\"-7.8\" font-family=\"Helvetica,sans-Serif\" font-size=\"14.00\" fill=\"#000000\">value = [1, 0]</text>\n",
       "</g>\n",
       "<!-- 5&#45;&gt;7 -->\n",
       "<g id=\"edge7\" class=\"edge\">\n",
       "<title>5&#45;&gt;7</title>\n",
       "<path fill=\"none\" stroke=\"#000000\" d=\"M449.0513,-88.9777C450.7783,-80.6449 452.6341,-71.6903 454.3862,-63.2364\"/>\n",
       "<polygon fill=\"#000000\" stroke=\"#000000\" points=\"457.854,-63.7507 456.4563,-53.2485 450.9996,-62.3301 457.854,-63.7507\"/>\n",
       "</g>\n",
       "<!-- 9 -->\n",
       "<g id=\"node10\" class=\"node\">\n",
       "<title>9</title>\n",
       "<path fill=\"#f2c19e\" stroke=\"#000000\" d=\"M738,-157C738,-157 620,-157 620,-157 614,-157 608,-151 608,-145 608,-145 608,-101 608,-101 608,-95 614,-89 620,-89 620,-89 738,-89 738,-89 744,-89 750,-95 750,-101 750,-101 750,-145 750,-145 750,-151 744,-157 738,-157\"/>\n",
       "<text text-anchor=\"start\" x=\"616\" y=\"-141.8\" font-family=\"Helvetica,sans-Serif\" font-size=\"14.00\" fill=\"#000000\">capital.gain ≤ 5095.5</text>\n",
       "<text text-anchor=\"start\" x=\"643.5\" y=\"-126.8\" font-family=\"Helvetica,sans-Serif\" font-size=\"14.00\" fill=\"#000000\">gini = 0.448</text>\n",
       "<text text-anchor=\"start\" x=\"630.5\" y=\"-111.8\" font-family=\"Helvetica,sans-Serif\" font-size=\"14.00\" fill=\"#000000\">samples = 3329</text>\n",
       "<text text-anchor=\"start\" x=\"617\" y=\"-96.8\" font-family=\"Helvetica,sans-Serif\" font-size=\"14.00\" fill=\"#000000\">value = [2203, 1126]</text>\n",
       "</g>\n",
       "<!-- 8&#45;&gt;9 -->\n",
       "<g id=\"edge9\" class=\"edge\">\n",
       "<title>8&#45;&gt;9</title>\n",
       "<path fill=\"none\" stroke=\"#000000\" d=\"M679,-192.9465C679,-184.776 679,-175.9318 679,-167.3697\"/>\n",
       "<polygon fill=\"#000000\" stroke=\"#000000\" points=\"682.5001,-167.13 679,-157.13 675.5001,-167.13 682.5001,-167.13\"/>\n",
       "</g>\n",
       "<!-- 12 -->\n",
       "<g id=\"node13\" class=\"node\">\n",
       "<title>12</title>\n",
       "<path fill=\"#80c0ee\" stroke=\"#000000\" d=\"M928,-157C928,-157 810,-157 810,-157 804,-157 798,-151 798,-145 798,-145 798,-101 798,-101 798,-95 804,-89 810,-89 810,-89 928,-89 928,-89 934,-89 940,-95 940,-101 940,-101 940,-145 940,-145 940,-151 934,-157 928,-157\"/>\n",
       "<text text-anchor=\"start\" x=\"806\" y=\"-141.8\" font-family=\"Helvetica,sans-Serif\" font-size=\"14.00\" fill=\"#000000\">capital.gain ≤ 5095.5</text>\n",
       "<text text-anchor=\"start\" x=\"833.5\" y=\"-126.8\" font-family=\"Helvetica,sans-Serif\" font-size=\"14.00\" fill=\"#000000\">gini = 0.389</text>\n",
       "<text text-anchor=\"start\" x=\"820.5\" y=\"-111.8\" font-family=\"Helvetica,sans-Serif\" font-size=\"14.00\" fill=\"#000000\">samples = 1440</text>\n",
       "<text text-anchor=\"start\" x=\"811\" y=\"-96.8\" font-family=\"Helvetica,sans-Serif\" font-size=\"14.00\" fill=\"#000000\">value = [381, 1059]</text>\n",
       "</g>\n",
       "<!-- 8&#45;&gt;12 -->\n",
       "<g id=\"edge12\" class=\"edge\">\n",
       "<title>8&#45;&gt;12</title>\n",
       "<path fill=\"none\" stroke=\"#000000\" d=\"M741.2131,-192.9465C759.2565,-183.0701 779.0985,-172.2093 797.6546,-162.0522\"/>\n",
       "<polygon fill=\"#000000\" stroke=\"#000000\" points=\"799.5557,-165.0017 806.6471,-157.13 796.1947,-158.8613 799.5557,-165.0017\"/>\n",
       "</g>\n",
       "<!-- 10 -->\n",
       "<g id=\"node11\" class=\"node\">\n",
       "<title>10</title>\n",
       "<path fill=\"#f0b890\" stroke=\"#000000\" d=\"M648,-53C648,-53 540,-53 540,-53 534,-53 528,-47 528,-41 528,-41 528,-12 528,-12 528,-6 534,0 540,0 540,0 648,0 648,0 654,0 660,-6 660,-12 660,-12 660,-41 660,-41 660,-47 654,-53 648,-53\"/>\n",
       "<text text-anchor=\"start\" x=\"558.5\" y=\"-37.8\" font-family=\"Helvetica,sans-Serif\" font-size=\"14.00\" fill=\"#000000\">gini = 0.424</text>\n",
       "<text text-anchor=\"start\" x=\"545.5\" y=\"-22.8\" font-family=\"Helvetica,sans-Serif\" font-size=\"14.00\" fill=\"#000000\">samples = 3163</text>\n",
       "<text text-anchor=\"start\" x=\"536\" y=\"-7.8\" font-family=\"Helvetica,sans-Serif\" font-size=\"14.00\" fill=\"#000000\">value = [2199, 964]</text>\n",
       "</g>\n",
       "<!-- 9&#45;&gt;10 -->\n",
       "<g id=\"edge10\" class=\"edge\">\n",
       "<title>9&#45;&gt;10</title>\n",
       "<path fill=\"none\" stroke=\"#000000\" d=\"M649.0322,-88.9777C641.0471,-79.9123 632.4138,-70.111 624.4056,-61.0192\"/>\n",
       "<polygon fill=\"#000000\" stroke=\"#000000\" points=\"626.7971,-58.4391 617.5608,-53.2485 621.5442,-63.066 626.7971,-58.4391\"/>\n",
       "</g>\n",
       "<!-- 11 -->\n",
       "<g id=\"node12\" class=\"node\">\n",
       "<title>11</title>\n",
       "<path fill=\"#3e9fe6\" stroke=\"#000000\" d=\"M776,-53C776,-53 690,-53 690,-53 684,-53 678,-47 678,-41 678,-41 678,-12 678,-12 678,-6 684,0 690,0 690,0 776,0 776,0 782,0 788,-6 788,-12 788,-12 788,-41 788,-41 788,-47 782,-53 776,-53\"/>\n",
       "<text text-anchor=\"start\" x=\"697.5\" y=\"-37.8\" font-family=\"Helvetica,sans-Serif\" font-size=\"14.00\" fill=\"#000000\">gini = 0.047</text>\n",
       "<text text-anchor=\"start\" x=\"688\" y=\"-22.8\" font-family=\"Helvetica,sans-Serif\" font-size=\"14.00\" fill=\"#000000\">samples = 166</text>\n",
       "<text text-anchor=\"start\" x=\"686\" y=\"-7.8\" font-family=\"Helvetica,sans-Serif\" font-size=\"14.00\" fill=\"#000000\">value = [4, 162]</text>\n",
       "</g>\n",
       "<!-- 9&#45;&gt;11 -->\n",
       "<g id=\"edge11\" class=\"edge\">\n",
       "<title>9&#45;&gt;11</title>\n",
       "<path fill=\"none\" stroke=\"#000000\" d=\"M698.0384,-88.9777C702.9063,-80.2786 708.1534,-70.9018 713.065,-62.1247\"/>\n",
       "<polygon fill=\"#000000\" stroke=\"#000000\" points=\"716.2029,-63.6843 718.0319,-53.2485 710.0943,-60.2659 716.2029,-63.6843\"/>\n",
       "</g>\n",
       "<!-- 13 -->\n",
       "<g id=\"node14\" class=\"node\">\n",
       "<title>13</title>\n",
       "<path fill=\"#92c9f1\" stroke=\"#000000\" d=\"M919.5,-53C919.5,-53 818.5,-53 818.5,-53 812.5,-53 806.5,-47 806.5,-41 806.5,-41 806.5,-12 806.5,-12 806.5,-6 812.5,0 818.5,0 818.5,0 919.5,0 919.5,0 925.5,0 931.5,-6 931.5,-12 931.5,-12 931.5,-41 931.5,-41 931.5,-47 925.5,-53 919.5,-53\"/>\n",
       "<text text-anchor=\"start\" x=\"833.5\" y=\"-37.8\" font-family=\"Helvetica,sans-Serif\" font-size=\"14.00\" fill=\"#000000\">gini = 0.429</text>\n",
       "<text text-anchor=\"start\" x=\"820.5\" y=\"-22.8\" font-family=\"Helvetica,sans-Serif\" font-size=\"14.00\" fill=\"#000000\">samples = 1221</text>\n",
       "<text text-anchor=\"start\" x=\"814.5\" y=\"-7.8\" font-family=\"Helvetica,sans-Serif\" font-size=\"14.00\" fill=\"#000000\">value = [380, 841]</text>\n",
       "</g>\n",
       "<!-- 12&#45;&gt;13 -->\n",
       "<g id=\"edge13\" class=\"edge\">\n",
       "<title>12&#45;&gt;13</title>\n",
       "<path fill=\"none\" stroke=\"#000000\" d=\"M869,-88.9777C869,-80.7364 869,-71.887 869,-63.5153\"/>\n",
       "<polygon fill=\"#000000\" stroke=\"#000000\" points=\"872.5001,-63.2484 869,-53.2485 865.5001,-63.2485 872.5001,-63.2484\"/>\n",
       "</g>\n",
       "<!-- 14 -->\n",
       "<g id=\"node15\" class=\"node\">\n",
       "<title>14</title>\n",
       "<path fill=\"#3a9de5\" stroke=\"#000000\" d=\"M1048,-53C1048,-53 962,-53 962,-53 956,-53 950,-47 950,-41 950,-41 950,-12 950,-12 950,-6 956,0 962,0 962,0 1048,0 1048,0 1054,0 1060,-6 1060,-12 1060,-12 1060,-41 1060,-41 1060,-47 1054,-53 1048,-53\"/>\n",
       "<text text-anchor=\"start\" x=\"969.5\" y=\"-37.8\" font-family=\"Helvetica,sans-Serif\" font-size=\"14.00\" fill=\"#000000\">gini = 0.009</text>\n",
       "<text text-anchor=\"start\" x=\"960\" y=\"-22.8\" font-family=\"Helvetica,sans-Serif\" font-size=\"14.00\" fill=\"#000000\">samples = 219</text>\n",
       "<text text-anchor=\"start\" x=\"958\" y=\"-7.8\" font-family=\"Helvetica,sans-Serif\" font-size=\"14.00\" fill=\"#000000\">value = [1, 218]</text>\n",
       "</g>\n",
       "<!-- 12&#45;&gt;14 -->\n",
       "<g id=\"edge14\" class=\"edge\">\n",
       "<title>12&#45;&gt;14</title>\n",
       "<path fill=\"none\" stroke=\"#000000\" d=\"M916.9485,-88.9777C930.628,-79.2713 945.4964,-68.7213 959.0534,-59.1018\"/>\n",
       "<polygon fill=\"#000000\" stroke=\"#000000\" points=\"961.1725,-61.8898 967.3027,-53.2485 957.1217,-56.1809 961.1725,-61.8898\"/>\n",
       "</g>\n",
       "</g>\n",
       "</svg>\n"
      ],
      "text/plain": [
       "<graphviz.files.Source at 0x7f2dc5c2cb10>"
      ]
     },
     "execution_count": 12,
     "metadata": {},
     "output_type": "execute_result"
    }
   ],
   "source": [
    "tree = DecisionTreeClassifier(max_depth=3)\n",
    "tree.fit(X_train, y_train)\n",
    "\n",
    "dot_data = export_graphviz(tree, out_file=None, \n",
    "                     feature_names=X_train.columns,  \n",
    "#                      class_names=iris.target_names,  \n",
    "                     filled=True, rounded=True,  \n",
    "                     special_characters=True)  \n",
    "graph = graphviz.Source(dot_data)  \n",
    "graph"
   ]
  },
  {
   "cell_type": "code",
   "execution_count": 8,
   "metadata": {
    "ExecuteTime": {
     "end_time": "2020-03-11T09:36:57.329589Z",
     "start_time": "2020-03-11T09:36:57.203131Z"
    }
   },
   "outputs": [
    {
     "data": {
      "image/svg+xml": [
       "<?xml version=\"1.0\" encoding=\"UTF-8\" standalone=\"no\"?>\n",
       "<!DOCTYPE svg PUBLIC \"-//W3C//DTD SVG 1.1//EN\"\n",
       " \"http://www.w3.org/Graphics/SVG/1.1/DTD/svg11.dtd\">\n",
       "<!-- Generated by graphviz version 2.40.1 (20161225.0304)\n",
       " -->\n",
       "<!-- Title: Tree Pages: 1 -->\n",
       "<svg width=\"1801pt\" height=\"477pt\"\n",
       " viewBox=\"0.00 0.00 1800.50 477.00\" xmlns=\"http://www.w3.org/2000/svg\" xmlns:xlink=\"http://www.w3.org/1999/xlink\">\n",
       "<g id=\"graph0\" class=\"graph\" transform=\"scale(1 1) rotate(0) translate(4 473)\">\n",
       "<title>Tree</title>\n",
       "<polygon fill=\"#ffffff\" stroke=\"transparent\" points=\"-4,4 -4,-473 1796.5,-473 1796.5,4 -4,4\"/>\n",
       "<!-- 0 -->\n",
       "<g id=\"node1\" class=\"node\">\n",
       "<title>0</title>\n",
       "<path fill=\"#eeab7b\" stroke=\"#000000\" d=\"M966.5,-469C966.5,-469 735.5,-469 735.5,-469 729.5,-469 723.5,-463 723.5,-457 723.5,-457 723.5,-413 723.5,-413 723.5,-407 729.5,-401 735.5,-401 735.5,-401 966.5,-401 966.5,-401 972.5,-401 978.5,-407 978.5,-413 978.5,-413 978.5,-457 978.5,-457 978.5,-463 972.5,-469 966.5,-469\"/>\n",
       "<text text-anchor=\"start\" x=\"731.5\" y=\"-453.8\" font-family=\"Helvetica,sans-Serif\" font-size=\"14.00\" fill=\"#000000\">marital.status_Married&#45;civ&#45;spouse ≤ 0.5</text>\n",
       "<text text-anchor=\"start\" x=\"815.5\" y=\"-438.8\" font-family=\"Helvetica,sans-Serif\" font-size=\"14.00\" fill=\"#000000\">gini = 0.374</text>\n",
       "<text text-anchor=\"start\" x=\"798.5\" y=\"-423.8\" font-family=\"Helvetica,sans-Serif\" font-size=\"14.00\" fill=\"#000000\">samples = 10239</text>\n",
       "<text text-anchor=\"start\" x=\"789\" y=\"-408.8\" font-family=\"Helvetica,sans-Serif\" font-size=\"14.00\" fill=\"#000000\">value = [7689, 2550]</text>\n",
       "</g>\n",
       "<!-- 1 -->\n",
       "<g id=\"node2\" class=\"node\">\n",
       "<title>1</title>\n",
       "<path fill=\"#e78a47\" stroke=\"#000000\" d=\"M807,-365C807,-365 689,-365 689,-365 683,-365 677,-359 677,-353 677,-353 677,-309 677,-309 677,-303 683,-297 689,-297 689,-297 807,-297 807,-297 813,-297 819,-303 819,-309 819,-309 819,-353 819,-353 819,-359 813,-365 807,-365\"/>\n",
       "<text text-anchor=\"start\" x=\"685\" y=\"-349.8\" font-family=\"Helvetica,sans-Serif\" font-size=\"14.00\" fill=\"#000000\">capital.gain ≤ 7139.5</text>\n",
       "<text text-anchor=\"start\" x=\"712.5\" y=\"-334.8\" font-family=\"Helvetica,sans-Serif\" font-size=\"14.00\" fill=\"#000000\">gini = 0.125</text>\n",
       "<text text-anchor=\"start\" x=\"699.5\" y=\"-319.8\" font-family=\"Helvetica,sans-Serif\" font-size=\"14.00\" fill=\"#000000\">samples = 5470</text>\n",
       "<text text-anchor=\"start\" x=\"690\" y=\"-304.8\" font-family=\"Helvetica,sans-Serif\" font-size=\"14.00\" fill=\"#000000\">value = [5105, 365]</text>\n",
       "</g>\n",
       "<!-- 0&#45;&gt;1 -->\n",
       "<g id=\"edge1\" class=\"edge\">\n",
       "<title>0&#45;&gt;1</title>\n",
       "<path fill=\"none\" stroke=\"#000000\" d=\"M817.2739,-400.9465C808.2039,-391.7884 798.2955,-381.7838 788.8819,-372.2788\"/>\n",
       "<polygon fill=\"#000000\" stroke=\"#000000\" points=\"791.3255,-369.7723 781.8018,-365.13 786.3519,-374.6981 791.3255,-369.7723\"/>\n",
       "<text text-anchor=\"middle\" x=\"781.6811\" y=\"-386.4297\" font-family=\"Helvetica,sans-Serif\" font-size=\"14.00\" fill=\"#000000\">True</text>\n",
       "</g>\n",
       "<!-- 14 -->\n",
       "<g id=\"node15\" class=\"node\">\n",
       "<title>14</title>\n",
       "<path fill=\"#fbece0\" stroke=\"#000000\" d=\"M1051,-365C1051,-365 927,-365 927,-365 921,-365 915,-359 915,-353 915,-353 915,-309 915,-309 915,-303 921,-297 927,-297 927,-297 1051,-297 1051,-297 1057,-297 1063,-303 1063,-309 1063,-309 1063,-353 1063,-353 1063,-359 1057,-365 1051,-365\"/>\n",
       "<text text-anchor=\"start\" x=\"923\" y=\"-349.8\" font-family=\"Helvetica,sans-Serif\" font-size=\"14.00\" fill=\"#000000\">education.num ≤ 12.5</text>\n",
       "<text text-anchor=\"start\" x=\"953.5\" y=\"-334.8\" font-family=\"Helvetica,sans-Serif\" font-size=\"14.00\" fill=\"#000000\">gini = 0.497</text>\n",
       "<text text-anchor=\"start\" x=\"940.5\" y=\"-319.8\" font-family=\"Helvetica,sans-Serif\" font-size=\"14.00\" fill=\"#000000\">samples = 4769</text>\n",
       "<text text-anchor=\"start\" x=\"927\" y=\"-304.8\" font-family=\"Helvetica,sans-Serif\" font-size=\"14.00\" fill=\"#000000\">value = [2584, 2185]</text>\n",
       "</g>\n",
       "<!-- 0&#45;&gt;14 -->\n",
       "<g id=\"edge14\" class=\"edge\">\n",
       "<title>0&#45;&gt;14</title>\n",
       "<path fill=\"none\" stroke=\"#000000\" d=\"M896.1864,-400.9465C908.815,-391.4293 922.6567,-380.9978 935.7068,-371.163\"/>\n",
       "<polygon fill=\"#000000\" stroke=\"#000000\" points=\"937.8325,-373.9437 943.7121,-365.13 933.6195,-368.3534 937.8325,-373.9437\"/>\n",
       "<text text-anchor=\"middle\" x=\"940.2339\" y=\"-386.1869\" font-family=\"Helvetica,sans-Serif\" font-size=\"14.00\" fill=\"#000000\">False</text>\n",
       "</g>\n",
       "<!-- 2 -->\n",
       "<g id=\"node3\" class=\"node\">\n",
       "<title>2</title>\n",
       "<path fill=\"#e68844\" stroke=\"#000000\" d=\"M467,-261C467,-261 343,-261 343,-261 337,-261 331,-255 331,-249 331,-249 331,-205 331,-205 331,-199 337,-193 343,-193 343,-193 467,-193 467,-193 473,-193 479,-199 479,-205 479,-205 479,-249 479,-249 479,-255 473,-261 467,-261\"/>\n",
       "<text text-anchor=\"start\" x=\"339\" y=\"-245.8\" font-family=\"Helvetica,sans-Serif\" font-size=\"14.00\" fill=\"#000000\">education.num ≤ 12.5</text>\n",
       "<text text-anchor=\"start\" x=\"369.5\" y=\"-230.8\" font-family=\"Helvetica,sans-Serif\" font-size=\"14.00\" fill=\"#000000\">gini = 0.098</text>\n",
       "<text text-anchor=\"start\" x=\"356.5\" y=\"-215.8\" font-family=\"Helvetica,sans-Serif\" font-size=\"14.00\" fill=\"#000000\">samples = 5380</text>\n",
       "<text text-anchor=\"start\" x=\"347\" y=\"-200.8\" font-family=\"Helvetica,sans-Serif\" font-size=\"14.00\" fill=\"#000000\">value = [5103, 277]</text>\n",
       "</g>\n",
       "<!-- 1&#45;&gt;2 -->\n",
       "<g id=\"edge2\" class=\"edge\">\n",
       "<title>1&#45;&gt;2</title>\n",
       "<path fill=\"none\" stroke=\"#000000\" d=\"M676.9302,-309.4511C622.3024,-292.8876 546.6844,-269.9597 489.0533,-252.4856\"/>\n",
       "<polygon fill=\"#000000\" stroke=\"#000000\" points=\"489.8248,-249.0622 479.2394,-249.5099 487.7936,-255.761 489.8248,-249.0622\"/>\n",
       "</g>\n",
       "<!-- 9 -->\n",
       "<g id=\"node10\" class=\"node\">\n",
       "<title>9</title>\n",
       "<path fill=\"#3d9fe6\" stroke=\"#000000\" d=\"M852.5,-261C852.5,-261 643.5,-261 643.5,-261 637.5,-261 631.5,-255 631.5,-249 631.5,-249 631.5,-205 631.5,-205 631.5,-199 637.5,-193 643.5,-193 643.5,-193 852.5,-193 852.5,-193 858.5,-193 864.5,-199 864.5,-205 864.5,-205 864.5,-249 864.5,-249 864.5,-255 858.5,-261 852.5,-261\"/>\n",
       "<text text-anchor=\"start\" x=\"639.5\" y=\"-245.8\" font-family=\"Helvetica,sans-Serif\" font-size=\"14.00\" fill=\"#000000\">occupation_Handlers&#45;cleaners ≤ 0.5</text>\n",
       "<text text-anchor=\"start\" x=\"712.5\" y=\"-230.8\" font-family=\"Helvetica,sans-Serif\" font-size=\"14.00\" fill=\"#000000\">gini = 0.043</text>\n",
       "<text text-anchor=\"start\" x=\"707\" y=\"-215.8\" font-family=\"Helvetica,sans-Serif\" font-size=\"14.00\" fill=\"#000000\">samples = 90</text>\n",
       "<text text-anchor=\"start\" x=\"705\" y=\"-200.8\" font-family=\"Helvetica,sans-Serif\" font-size=\"14.00\" fill=\"#000000\">value = [2, 88]</text>\n",
       "</g>\n",
       "<!-- 1&#45;&gt;9 -->\n",
       "<g id=\"edge9\" class=\"edge\">\n",
       "<title>1&#45;&gt;9</title>\n",
       "<path fill=\"none\" stroke=\"#000000\" d=\"M748,-296.9465C748,-288.776 748,-279.9318 748,-271.3697\"/>\n",
       "<polygon fill=\"#000000\" stroke=\"#000000\" points=\"751.5001,-271.13 748,-261.13 744.5001,-271.13 751.5001,-271.13\"/>\n",
       "</g>\n",
       "<!-- 3 -->\n",
       "<g id=\"node4\" class=\"node\">\n",
       "<title>3</title>\n",
       "<path fill=\"#e6843e\" stroke=\"#000000\" d=\"M256,-157C256,-157 140,-157 140,-157 134,-157 128,-151 128,-145 128,-145 128,-101 128,-101 128,-95 134,-89 140,-89 140,-89 256,-89 256,-89 262,-89 268,-95 268,-101 268,-101 268,-145 268,-145 268,-151 262,-157 256,-157\"/>\n",
       "<text text-anchor=\"start\" x=\"136\" y=\"-141.8\" font-family=\"Helvetica,sans-Serif\" font-size=\"14.00\" fill=\"#000000\">capital.loss ≤ 2218.0</text>\n",
       "<text text-anchor=\"start\" x=\"162.5\" y=\"-126.8\" font-family=\"Helvetica,sans-Serif\" font-size=\"14.00\" fill=\"#000000\">gini = 0.051</text>\n",
       "<text text-anchor=\"start\" x=\"149.5\" y=\"-111.8\" font-family=\"Helvetica,sans-Serif\" font-size=\"14.00\" fill=\"#000000\">samples = 4281</text>\n",
       "<text text-anchor=\"start\" x=\"140\" y=\"-96.8\" font-family=\"Helvetica,sans-Serif\" font-size=\"14.00\" fill=\"#000000\">value = [4170, 111]</text>\n",
       "</g>\n",
       "<!-- 2&#45;&gt;3 -->\n",
       "<g id=\"edge3\" class=\"edge\">\n",
       "<title>2&#45;&gt;3</title>\n",
       "<path fill=\"none\" stroke=\"#000000\" d=\"M337.2205,-192.9465C317.2946,-182.9354 295.3554,-171.9129 274.9027,-161.6371\"/>\n",
       "<polygon fill=\"#000000\" stroke=\"#000000\" points=\"276.4388,-158.492 265.9318,-157.13 273.2961,-164.7469 276.4388,-158.492\"/>\n",
       "</g>\n",
       "<!-- 6 -->\n",
       "<g id=\"node7\" class=\"node\">\n",
       "<title>6</title>\n",
       "<path fill=\"#ea975c\" stroke=\"#000000\" d=\"M455.5,-157C455.5,-157 354.5,-157 354.5,-157 348.5,-157 342.5,-151 342.5,-145 342.5,-145 342.5,-101 342.5,-101 342.5,-95 348.5,-89 354.5,-89 354.5,-89 455.5,-89 455.5,-89 461.5,-89 467.5,-95 467.5,-101 467.5,-101 467.5,-145 467.5,-145 467.5,-151 461.5,-157 455.5,-157\"/>\n",
       "<text text-anchor=\"start\" x=\"372.5\" y=\"-141.8\" font-family=\"Helvetica,sans-Serif\" font-size=\"14.00\" fill=\"#000000\">age ≤ 31.5</text>\n",
       "<text text-anchor=\"start\" x=\"369.5\" y=\"-126.8\" font-family=\"Helvetica,sans-Serif\" font-size=\"14.00\" fill=\"#000000\">gini = 0.256</text>\n",
       "<text text-anchor=\"start\" x=\"356.5\" y=\"-111.8\" font-family=\"Helvetica,sans-Serif\" font-size=\"14.00\" fill=\"#000000\">samples = 1099</text>\n",
       "<text text-anchor=\"start\" x=\"350.5\" y=\"-96.8\" font-family=\"Helvetica,sans-Serif\" font-size=\"14.00\" fill=\"#000000\">value = [933, 166]</text>\n",
       "</g>\n",
       "<!-- 2&#45;&gt;6 -->\n",
       "<g id=\"edge6\" class=\"edge\">\n",
       "<title>2&#45;&gt;6</title>\n",
       "<path fill=\"none\" stroke=\"#000000\" d=\"M405,-192.9465C405,-184.776 405,-175.9318 405,-167.3697\"/>\n",
       "<polygon fill=\"#000000\" stroke=\"#000000\" points=\"408.5001,-167.13 405,-157.13 401.5001,-167.13 408.5001,-167.13\"/>\n",
       "</g>\n",
       "<!-- 4 -->\n",
       "<g id=\"node5\" class=\"node\">\n",
       "<title>4</title>\n",
       "<path fill=\"#e6843e\" stroke=\"#000000\" d=\"M120,-53C120,-53 12,-53 12,-53 6,-53 0,-47 0,-41 0,-41 0,-12 0,-12 0,-6 6,0 12,0 12,0 120,0 120,0 126,0 132,-6 132,-12 132,-12 132,-41 132,-41 132,-47 126,-53 120,-53\"/>\n",
       "<text text-anchor=\"start\" x=\"30.5\" y=\"-37.8\" font-family=\"Helvetica,sans-Serif\" font-size=\"14.00\" fill=\"#000000\">gini = 0.048</text>\n",
       "<text text-anchor=\"start\" x=\"17.5\" y=\"-22.8\" font-family=\"Helvetica,sans-Serif\" font-size=\"14.00\" fill=\"#000000\">samples = 4272</text>\n",
       "<text text-anchor=\"start\" x=\"8\" y=\"-7.8\" font-family=\"Helvetica,sans-Serif\" font-size=\"14.00\" fill=\"#000000\">value = [4168, 104]</text>\n",
       "</g>\n",
       "<!-- 3&#45;&gt;4 -->\n",
       "<g id=\"edge4\" class=\"edge\">\n",
       "<title>3&#45;&gt;4</title>\n",
       "<path fill=\"none\" stroke=\"#000000\" d=\"M151.4617,-88.9777C138.3099,-79.3629 124.0257,-68.9203 110.968,-59.3743\"/>\n",
       "<polygon fill=\"#000000\" stroke=\"#000000\" points=\"112.727,-56.3247 102.5886,-53.2485 108.5958,-61.9757 112.727,-56.3247\"/>\n",
       "</g>\n",
       "<!-- 5 -->\n",
       "<g id=\"node6\" class=\"node\">\n",
       "<title>5</title>\n",
       "<path fill=\"#72b9ec\" stroke=\"#000000\" d=\"M233.5,-53C233.5,-53 162.5,-53 162.5,-53 156.5,-53 150.5,-47 150.5,-41 150.5,-41 150.5,-12 150.5,-12 150.5,-6 156.5,0 162.5,0 162.5,0 233.5,0 233.5,0 239.5,0 245.5,-6 245.5,-12 245.5,-12 245.5,-41 245.5,-41 245.5,-47 239.5,-53 233.5,-53\"/>\n",
       "<text text-anchor=\"start\" x=\"162.5\" y=\"-37.8\" font-family=\"Helvetica,sans-Serif\" font-size=\"14.00\" fill=\"#000000\">gini = 0.346</text>\n",
       "<text text-anchor=\"start\" x=\"160.5\" y=\"-22.8\" font-family=\"Helvetica,sans-Serif\" font-size=\"14.00\" fill=\"#000000\">samples = 9</text>\n",
       "<text text-anchor=\"start\" x=\"158.5\" y=\"-7.8\" font-family=\"Helvetica,sans-Serif\" font-size=\"14.00\" fill=\"#000000\">value = [2, 7]</text>\n",
       "</g>\n",
       "<!-- 3&#45;&gt;5 -->\n",
       "<g id=\"edge5\" class=\"edge\">\n",
       "<title>3&#45;&gt;5</title>\n",
       "<path fill=\"none\" stroke=\"#000000\" d=\"M198,-88.9777C198,-80.7364 198,-71.887 198,-63.5153\"/>\n",
       "<polygon fill=\"#000000\" stroke=\"#000000\" points=\"201.5001,-63.2484 198,-53.2485 194.5001,-63.2485 201.5001,-63.2484\"/>\n",
       "</g>\n",
       "<!-- 7 -->\n",
       "<g id=\"node8\" class=\"node\">\n",
       "<title>7</title>\n",
       "<path fill=\"#e68540\" stroke=\"#000000\" d=\"M368.5,-53C368.5,-53 275.5,-53 275.5,-53 269.5,-53 263.5,-47 263.5,-41 263.5,-41 263.5,-12 263.5,-12 263.5,-6 269.5,0 275.5,0 275.5,0 368.5,0 368.5,0 374.5,0 380.5,-6 380.5,-12 380.5,-12 380.5,-41 380.5,-41 380.5,-47 374.5,-53 368.5,-53\"/>\n",
       "<text text-anchor=\"start\" x=\"286.5\" y=\"-37.8\" font-family=\"Helvetica,sans-Serif\" font-size=\"14.00\" fill=\"#000000\">gini = 0.065</text>\n",
       "<text text-anchor=\"start\" x=\"277\" y=\"-22.8\" font-family=\"Helvetica,sans-Serif\" font-size=\"14.00\" fill=\"#000000\">samples = 449</text>\n",
       "<text text-anchor=\"start\" x=\"271.5\" y=\"-7.8\" font-family=\"Helvetica,sans-Serif\" font-size=\"14.00\" fill=\"#000000\">value = [434, 15]</text>\n",
       "</g>\n",
       "<!-- 6&#45;&gt;7 -->\n",
       "<g id=\"edge7\" class=\"edge\">\n",
       "<title>6&#45;&gt;7</title>\n",
       "<path fill=\"none\" stroke=\"#000000\" d=\"M375.7373,-88.9777C367.9401,-79.9123 359.51,-70.111 351.6901,-61.0192\"/>\n",
       "<polygon fill=\"#000000\" stroke=\"#000000\" points=\"354.1809,-58.5477 345.0065,-53.2485 348.8738,-63.1123 354.1809,-58.5477\"/>\n",
       "</g>\n",
       "<!-- 8 -->\n",
       "<g id=\"node9\" class=\"node\">\n",
       "<title>8</title>\n",
       "<path fill=\"#eda775\" stroke=\"#000000\" d=\"M511.5,-53C511.5,-53 410.5,-53 410.5,-53 404.5,-53 398.5,-47 398.5,-41 398.5,-41 398.5,-12 398.5,-12 398.5,-6 404.5,0 410.5,0 410.5,0 511.5,0 511.5,0 517.5,0 523.5,-6 523.5,-12 523.5,-12 523.5,-41 523.5,-41 523.5,-47 517.5,-53 511.5,-53\"/>\n",
       "<text text-anchor=\"start\" x=\"425.5\" y=\"-37.8\" font-family=\"Helvetica,sans-Serif\" font-size=\"14.00\" fill=\"#000000\">gini = 0.357</text>\n",
       "<text text-anchor=\"start\" x=\"416\" y=\"-22.8\" font-family=\"Helvetica,sans-Serif\" font-size=\"14.00\" fill=\"#000000\">samples = 650</text>\n",
       "<text text-anchor=\"start\" x=\"406.5\" y=\"-7.8\" font-family=\"Helvetica,sans-Serif\" font-size=\"14.00\" fill=\"#000000\">value = [499, 151]</text>\n",
       "</g>\n",
       "<!-- 6&#45;&gt;8 -->\n",
       "<g id=\"edge8\" class=\"edge\">\n",
       "<title>6&#45;&gt;8</title>\n",
       "<path fill=\"none\" stroke=\"#000000\" d=\"M424.7435,-88.9777C429.7917,-80.2786 435.2331,-70.9018 440.3266,-62.1247\"/>\n",
       "<polygon fill=\"#000000\" stroke=\"#000000\" points=\"443.4855,-63.6544 445.4776,-53.2485 437.4311,-60.1409 443.4855,-63.6544\"/>\n",
       "</g>\n",
       "<!-- 10 -->\n",
       "<g id=\"node11\" class=\"node\">\n",
       "<title>10</title>\n",
       "<path fill=\"#3b9ee5\" stroke=\"#000000\" d=\"M700.5,-157C700.5,-157 575.5,-157 575.5,-157 569.5,-157 563.5,-151 563.5,-145 563.5,-145 563.5,-101 563.5,-101 563.5,-95 569.5,-89 575.5,-89 575.5,-89 700.5,-89 700.5,-89 706.5,-89 712.5,-95 712.5,-101 712.5,-101 712.5,-145 712.5,-145 712.5,-151 706.5,-157 700.5,-157\"/>\n",
       "<text text-anchor=\"start\" x=\"571.5\" y=\"-141.8\" font-family=\"Helvetica,sans-Serif\" font-size=\"14.00\" fill=\"#000000\">capital.gain ≤ 30961.5</text>\n",
       "<text text-anchor=\"start\" x=\"602.5\" y=\"-126.8\" font-family=\"Helvetica,sans-Serif\" font-size=\"14.00\" fill=\"#000000\">gini = 0.022</text>\n",
       "<text text-anchor=\"start\" x=\"597\" y=\"-111.8\" font-family=\"Helvetica,sans-Serif\" font-size=\"14.00\" fill=\"#000000\">samples = 89</text>\n",
       "<text text-anchor=\"start\" x=\"595\" y=\"-96.8\" font-family=\"Helvetica,sans-Serif\" font-size=\"14.00\" fill=\"#000000\">value = [1, 88]</text>\n",
       "</g>\n",
       "<!-- 9&#45;&gt;10 -->\n",
       "<g id=\"edge10\" class=\"edge\">\n",
       "<title>9&#45;&gt;10</title>\n",
       "<path fill=\"none\" stroke=\"#000000\" d=\"M711.9819,-192.9465C702.2954,-183.7884 691.7136,-173.7838 681.6603,-164.2788\"/>\n",
       "<polygon fill=\"#000000\" stroke=\"#000000\" points=\"683.7701,-161.4569 674.099,-157.13 678.961,-166.5434 683.7701,-161.4569\"/>\n",
       "</g>\n",
       "<!-- 13 -->\n",
       "<g id=\"node14\" class=\"node\">\n",
       "<title>13</title>\n",
       "<path fill=\"#e58139\" stroke=\"#000000\" d=\"M813.5,-149.5C813.5,-149.5 742.5,-149.5 742.5,-149.5 736.5,-149.5 730.5,-143.5 730.5,-137.5 730.5,-137.5 730.5,-108.5 730.5,-108.5 730.5,-102.5 736.5,-96.5 742.5,-96.5 742.5,-96.5 813.5,-96.5 813.5,-96.5 819.5,-96.5 825.5,-102.5 825.5,-108.5 825.5,-108.5 825.5,-137.5 825.5,-137.5 825.5,-143.5 819.5,-149.5 813.5,-149.5\"/>\n",
       "<text text-anchor=\"start\" x=\"750\" y=\"-134.3\" font-family=\"Helvetica,sans-Serif\" font-size=\"14.00\" fill=\"#000000\">gini = 0.0</text>\n",
       "<text text-anchor=\"start\" x=\"740.5\" y=\"-119.3\" font-family=\"Helvetica,sans-Serif\" font-size=\"14.00\" fill=\"#000000\">samples = 1</text>\n",
       "<text text-anchor=\"start\" x=\"738.5\" y=\"-104.3\" font-family=\"Helvetica,sans-Serif\" font-size=\"14.00\" fill=\"#000000\">value = [1, 0]</text>\n",
       "</g>\n",
       "<!-- 9&#45;&gt;13 -->\n",
       "<g id=\"edge13\" class=\"edge\">\n",
       "<title>9&#45;&gt;13</title>\n",
       "<path fill=\"none\" stroke=\"#000000\" d=\"M757.8231,-192.9465C760.937,-182.1519 764.39,-170.1813 767.5465,-159.2389\"/>\n",
       "<polygon fill=\"#000000\" stroke=\"#000000\" points=\"770.9348,-160.1205 770.3436,-149.5422 764.209,-158.1803 770.9348,-160.1205\"/>\n",
       "</g>\n",
       "<!-- 11 -->\n",
       "<g id=\"node12\" class=\"node\">\n",
       "<title>11</title>\n",
       "<path fill=\"#399de5\" stroke=\"#000000\" d=\"M632,-53C632,-53 554,-53 554,-53 548,-53 542,-47 542,-41 542,-41 542,-12 542,-12 542,-6 548,0 554,0 554,0 632,0 632,0 638,0 644,-6 644,-12 644,-12 644,-41 644,-41 644,-47 638,-53 632,-53\"/>\n",
       "<text text-anchor=\"start\" x=\"565\" y=\"-37.8\" font-family=\"Helvetica,sans-Serif\" font-size=\"14.00\" fill=\"#000000\">gini = 0.0</text>\n",
       "<text text-anchor=\"start\" x=\"552\" y=\"-22.8\" font-family=\"Helvetica,sans-Serif\" font-size=\"14.00\" fill=\"#000000\">samples = 79</text>\n",
       "<text text-anchor=\"start\" x=\"550\" y=\"-7.8\" font-family=\"Helvetica,sans-Serif\" font-size=\"14.00\" fill=\"#000000\">value = [0, 79]</text>\n",
       "</g>\n",
       "<!-- 10&#45;&gt;11 -->\n",
       "<g id=\"edge11\" class=\"edge\">\n",
       "<title>10&#45;&gt;11</title>\n",
       "<path fill=\"none\" stroke=\"#000000\" d=\"M622.1347,-88.9777C618.1208,-80.3702 613.7975,-71.0992 609.7419,-62.402\"/>\n",
       "<polygon fill=\"#000000\" stroke=\"#000000\" points=\"612.8718,-60.8323 605.4734,-53.2485 606.5277,-63.7907 612.8718,-60.8323\"/>\n",
       "</g>\n",
       "<!-- 12 -->\n",
       "<g id=\"node13\" class=\"node\">\n",
       "<title>12</title>\n",
       "<path fill=\"#4fa8e8\" stroke=\"#000000\" d=\"M748,-53C748,-53 674,-53 674,-53 668,-53 662,-47 662,-41 662,-41 662,-12 662,-12 662,-6 668,0 674,0 674,0 748,0 748,0 754,0 760,-6 760,-12 760,-12 760,-41 760,-41 760,-47 754,-53 748,-53\"/>\n",
       "<text text-anchor=\"start\" x=\"679\" y=\"-37.8\" font-family=\"Helvetica,sans-Serif\" font-size=\"14.00\" fill=\"#000000\">gini = 0.18</text>\n",
       "<text text-anchor=\"start\" x=\"670\" y=\"-22.8\" font-family=\"Helvetica,sans-Serif\" font-size=\"14.00\" fill=\"#000000\">samples = 10</text>\n",
       "<text text-anchor=\"start\" x=\"671.5\" y=\"-7.8\" font-family=\"Helvetica,sans-Serif\" font-size=\"14.00\" fill=\"#000000\">value = [1, 9]</text>\n",
       "</g>\n",
       "<!-- 10&#45;&gt;12 -->\n",
       "<g id=\"edge12\" class=\"edge\">\n",
       "<title>10&#45;&gt;12</title>\n",
       "<path fill=\"none\" stroke=\"#000000\" d=\"M663.7371,-88.9777C670.5256,-80.0039 677.8596,-70.3089 684.6784,-61.295\"/>\n",
       "<polygon fill=\"#000000\" stroke=\"#000000\" points=\"687.5237,-63.3352 690.7654,-53.2485 681.941,-59.1121 687.5237,-63.3352\"/>\n",
       "</g>\n",
       "<!-- 15 -->\n",
       "<g id=\"node16\" class=\"node\">\n",
       "<title>15</title>\n",
       "<path fill=\"#f2c19e\" stroke=\"#000000\" d=\"M1048,-261C1048,-261 930,-261 930,-261 924,-261 918,-255 918,-249 918,-249 918,-205 918,-205 918,-199 924,-193 930,-193 930,-193 1048,-193 1048,-193 1054,-193 1060,-199 1060,-205 1060,-205 1060,-249 1060,-249 1060,-255 1054,-261 1048,-261\"/>\n",
       "<text text-anchor=\"start\" x=\"926\" y=\"-245.8\" font-family=\"Helvetica,sans-Serif\" font-size=\"14.00\" fill=\"#000000\">capital.gain ≤ 5095.5</text>\n",
       "<text text-anchor=\"start\" x=\"953.5\" y=\"-230.8\" font-family=\"Helvetica,sans-Serif\" font-size=\"14.00\" fill=\"#000000\">gini = 0.448</text>\n",
       "<text text-anchor=\"start\" x=\"940.5\" y=\"-215.8\" font-family=\"Helvetica,sans-Serif\" font-size=\"14.00\" fill=\"#000000\">samples = 3329</text>\n",
       "<text text-anchor=\"start\" x=\"927\" y=\"-200.8\" font-family=\"Helvetica,sans-Serif\" font-size=\"14.00\" fill=\"#000000\">value = [2203, 1126]</text>\n",
       "</g>\n",
       "<!-- 14&#45;&gt;15 -->\n",
       "<g id=\"edge15\" class=\"edge\">\n",
       "<title>14&#45;&gt;15</title>\n",
       "<path fill=\"none\" stroke=\"#000000\" d=\"M989,-296.9465C989,-288.776 989,-279.9318 989,-271.3697\"/>\n",
       "<polygon fill=\"#000000\" stroke=\"#000000\" points=\"992.5001,-271.13 989,-261.13 985.5001,-271.13 992.5001,-271.13\"/>\n",
       "</g>\n",
       "<!-- 22 -->\n",
       "<g id=\"node23\" class=\"node\">\n",
       "<title>22</title>\n",
       "<path fill=\"#80c0ee\" stroke=\"#000000\" d=\"M1479,-261C1479,-261 1361,-261 1361,-261 1355,-261 1349,-255 1349,-249 1349,-249 1349,-205 1349,-205 1349,-199 1355,-193 1361,-193 1361,-193 1479,-193 1479,-193 1485,-193 1491,-199 1491,-205 1491,-205 1491,-249 1491,-249 1491,-255 1485,-261 1479,-261\"/>\n",
       "<text text-anchor=\"start\" x=\"1357\" y=\"-245.8\" font-family=\"Helvetica,sans-Serif\" font-size=\"14.00\" fill=\"#000000\">capital.gain ≤ 5095.5</text>\n",
       "<text text-anchor=\"start\" x=\"1384.5\" y=\"-230.8\" font-family=\"Helvetica,sans-Serif\" font-size=\"14.00\" fill=\"#000000\">gini = 0.389</text>\n",
       "<text text-anchor=\"start\" x=\"1371.5\" y=\"-215.8\" font-family=\"Helvetica,sans-Serif\" font-size=\"14.00\" fill=\"#000000\">samples = 1440</text>\n",
       "<text text-anchor=\"start\" x=\"1362\" y=\"-200.8\" font-family=\"Helvetica,sans-Serif\" font-size=\"14.00\" fill=\"#000000\">value = [381, 1059]</text>\n",
       "</g>\n",
       "<!-- 14&#45;&gt;22 -->\n",
       "<g id=\"edge22\" class=\"edge\">\n",
       "<title>14&#45;&gt;22</title>\n",
       "<path fill=\"none\" stroke=\"#000000\" d=\"M1063.0915,-313.1218C1139.836,-294.6034 1259.4187,-265.7481 1338.7168,-246.6136\"/>\n",
       "<polygon fill=\"#000000\" stroke=\"#000000\" points=\"1339.7639,-249.9615 1348.6639,-244.2134 1338.1219,-243.1567 1339.7639,-249.9615\"/>\n",
       "</g>\n",
       "<!-- 16 -->\n",
       "<g id=\"node17\" class=\"node\">\n",
       "<title>16</title>\n",
       "<path fill=\"#f0b890\" stroke=\"#000000\" d=\"M1017,-157C1017,-157 901,-157 901,-157 895,-157 889,-151 889,-145 889,-145 889,-101 889,-101 889,-95 895,-89 901,-89 901,-89 1017,-89 1017,-89 1023,-89 1029,-95 1029,-101 1029,-101 1029,-145 1029,-145 1029,-151 1023,-157 1017,-157\"/>\n",
       "<text text-anchor=\"start\" x=\"897\" y=\"-141.8\" font-family=\"Helvetica,sans-Serif\" font-size=\"14.00\" fill=\"#000000\">capital.loss ≤ 1794.0</text>\n",
       "<text text-anchor=\"start\" x=\"923.5\" y=\"-126.8\" font-family=\"Helvetica,sans-Serif\" font-size=\"14.00\" fill=\"#000000\">gini = 0.424</text>\n",
       "<text text-anchor=\"start\" x=\"910.5\" y=\"-111.8\" font-family=\"Helvetica,sans-Serif\" font-size=\"14.00\" fill=\"#000000\">samples = 3163</text>\n",
       "<text text-anchor=\"start\" x=\"901\" y=\"-96.8\" font-family=\"Helvetica,sans-Serif\" font-size=\"14.00\" fill=\"#000000\">value = [2199, 964]</text>\n",
       "</g>\n",
       "<!-- 15&#45;&gt;16 -->\n",
       "<g id=\"edge16\" class=\"edge\">\n",
       "<title>15&#45;&gt;16</title>\n",
       "<path fill=\"none\" stroke=\"#000000\" d=\"M979.1769,-192.9465C976.7682,-184.5965 974.1566,-175.5427 971.6362,-166.8056\"/>\n",
       "<polygon fill=\"#000000\" stroke=\"#000000\" points=\"974.9798,-165.7681 968.8452,-157.13 968.254,-167.7083 974.9798,-165.7681\"/>\n",
       "</g>\n",
       "<!-- 19 -->\n",
       "<g id=\"node20\" class=\"node\">\n",
       "<title>19</title>\n",
       "<path fill=\"#3e9fe6\" stroke=\"#000000\" d=\"M1212.5,-157C1212.5,-157 1059.5,-157 1059.5,-157 1053.5,-157 1047.5,-151 1047.5,-145 1047.5,-145 1047.5,-101 1047.5,-101 1047.5,-95 1053.5,-89 1059.5,-89 1059.5,-89 1212.5,-89 1212.5,-89 1218.5,-89 1224.5,-95 1224.5,-101 1224.5,-101 1224.5,-145 1224.5,-145 1224.5,-151 1218.5,-157 1212.5,-157\"/>\n",
       "<text text-anchor=\"start\" x=\"1055.5\" y=\"-141.8\" font-family=\"Helvetica,sans-Serif\" font-size=\"14.00\" fill=\"#000000\">education_Preschool ≤ 0.5</text>\n",
       "<text text-anchor=\"start\" x=\"1100.5\" y=\"-126.8\" font-family=\"Helvetica,sans-Serif\" font-size=\"14.00\" fill=\"#000000\">gini = 0.047</text>\n",
       "<text text-anchor=\"start\" x=\"1091\" y=\"-111.8\" font-family=\"Helvetica,sans-Serif\" font-size=\"14.00\" fill=\"#000000\">samples = 166</text>\n",
       "<text text-anchor=\"start\" x=\"1089\" y=\"-96.8\" font-family=\"Helvetica,sans-Serif\" font-size=\"14.00\" fill=\"#000000\">value = [4, 162]</text>\n",
       "</g>\n",
       "<!-- 15&#45;&gt;19 -->\n",
       "<g id=\"edge19\" class=\"edge\">\n",
       "<title>15&#45;&gt;19</title>\n",
       "<path fill=\"none\" stroke=\"#000000\" d=\"M1037.1333,-192.9465C1050.5856,-183.4293 1065.33,-172.9978 1079.2312,-163.163\"/>\n",
       "<polygon fill=\"#000000\" stroke=\"#000000\" points=\"1081.6165,-165.7628 1087.7586,-157.13 1077.5736,-160.0483 1081.6165,-165.7628\"/>\n",
       "</g>\n",
       "<!-- 17 -->\n",
       "<g id=\"node18\" class=\"node\">\n",
       "<title>17</title>\n",
       "<path fill=\"#f0b489\" stroke=\"#000000\" d=\"M898,-53C898,-53 790,-53 790,-53 784,-53 778,-47 778,-41 778,-41 778,-12 778,-12 778,-6 784,0 790,0 790,0 898,0 898,0 904,0 910,-6 910,-12 910,-12 910,-41 910,-41 910,-47 904,-53 898,-53\"/>\n",
       "<text text-anchor=\"start\" x=\"812\" y=\"-37.8\" font-family=\"Helvetica,sans-Serif\" font-size=\"14.00\" fill=\"#000000\">gini = 0.41</text>\n",
       "<text text-anchor=\"start\" x=\"795.5\" y=\"-22.8\" font-family=\"Helvetica,sans-Serif\" font-size=\"14.00\" fill=\"#000000\">samples = 3045</text>\n",
       "<text text-anchor=\"start\" x=\"786\" y=\"-7.8\" font-family=\"Helvetica,sans-Serif\" font-size=\"14.00\" fill=\"#000000\">value = [2168, 877]</text>\n",
       "</g>\n",
       "<!-- 16&#45;&gt;17 -->\n",
       "<g id=\"edge17\" class=\"edge\">\n",
       "<title>16&#45;&gt;17</title>\n",
       "<path fill=\"none\" stroke=\"#000000\" d=\"M918.4553,-88.9777C907.2155,-79.546 895.0264,-69.3178 883.8279,-59.9208\"/>\n",
       "<polygon fill=\"#000000\" stroke=\"#000000\" points=\"885.7866,-56.9954 875.8764,-53.2485 881.287,-62.3576 885.7866,-56.9954\"/>\n",
       "</g>\n",
       "<!-- 18 -->\n",
       "<g id=\"node19\" class=\"node\">\n",
       "<title>18</title>\n",
       "<path fill=\"#80c0ee\" stroke=\"#000000\" d=\"M1026,-53C1026,-53 940,-53 940,-53 934,-53 928,-47 928,-41 928,-41 928,-12 928,-12 928,-6 934,0 940,0 940,0 1026,0 1026,0 1032,0 1038,-6 1038,-12 1038,-12 1038,-41 1038,-41 1038,-47 1032,-53 1026,-53\"/>\n",
       "<text text-anchor=\"start\" x=\"947.5\" y=\"-37.8\" font-family=\"Helvetica,sans-Serif\" font-size=\"14.00\" fill=\"#000000\">gini = 0.387</text>\n",
       "<text text-anchor=\"start\" x=\"938\" y=\"-22.8\" font-family=\"Helvetica,sans-Serif\" font-size=\"14.00\" fill=\"#000000\">samples = 118</text>\n",
       "<text text-anchor=\"start\" x=\"936\" y=\"-7.8\" font-family=\"Helvetica,sans-Serif\" font-size=\"14.00\" fill=\"#000000\">value = [31, 87]</text>\n",
       "</g>\n",
       "<!-- 16&#45;&gt;18 -->\n",
       "<g id=\"edge18\" class=\"edge\">\n",
       "<title>16&#45;&gt;18</title>\n",
       "<path fill=\"none\" stroke=\"#000000\" d=\"M967.4615,-88.9777C969.5567,-80.5533 971.8099,-71.4934 973.9327,-62.9579\"/>\n",
       "<polygon fill=\"#000000\" stroke=\"#000000\" points=\"977.3305,-63.7976 976.3475,-53.2485 970.5374,-62.1081 977.3305,-63.7976\"/>\n",
       "</g>\n",
       "<!-- 20 -->\n",
       "<g id=\"node21\" class=\"node\">\n",
       "<title>20</title>\n",
       "<path fill=\"#3d9fe5\" stroke=\"#000000\" d=\"M1154,-53C1154,-53 1068,-53 1068,-53 1062,-53 1056,-47 1056,-41 1056,-41 1056,-12 1056,-12 1056,-6 1062,0 1068,0 1068,0 1154,0 1154,0 1160,0 1166,-6 1166,-12 1166,-12 1166,-41 1166,-41 1166,-47 1160,-53 1154,-53\"/>\n",
       "<text text-anchor=\"start\" x=\"1075.5\" y=\"-37.8\" font-family=\"Helvetica,sans-Serif\" font-size=\"14.00\" fill=\"#000000\">gini = 0.036</text>\n",
       "<text text-anchor=\"start\" x=\"1066\" y=\"-22.8\" font-family=\"Helvetica,sans-Serif\" font-size=\"14.00\" fill=\"#000000\">samples = 165</text>\n",
       "<text text-anchor=\"start\" x=\"1064\" y=\"-7.8\" font-family=\"Helvetica,sans-Serif\" font-size=\"14.00\" fill=\"#000000\">value = [3, 162]</text>\n",
       "</g>\n",
       "<!-- 19&#45;&gt;20 -->\n",
       "<g id=\"edge20\" class=\"edge\">\n",
       "<title>19&#45;&gt;20</title>\n",
       "<path fill=\"none\" stroke=\"#000000\" d=\"M1127.1859,-88.9777C1125.0034,-80.5533 1122.6563,-71.4934 1120.4451,-62.9579\"/>\n",
       "<polygon fill=\"#000000\" stroke=\"#000000\" points=\"1123.8258,-62.0511 1117.9297,-53.2485 1117.0495,-63.8067 1123.8258,-62.0511\"/>\n",
       "</g>\n",
       "<!-- 21 -->\n",
       "<g id=\"node22\" class=\"node\">\n",
       "<title>21</title>\n",
       "<path fill=\"#e58139\" stroke=\"#000000\" d=\"M1267.5,-53C1267.5,-53 1196.5,-53 1196.5,-53 1190.5,-53 1184.5,-47 1184.5,-41 1184.5,-41 1184.5,-12 1184.5,-12 1184.5,-6 1190.5,0 1196.5,0 1196.5,0 1267.5,0 1267.5,0 1273.5,0 1279.5,-6 1279.5,-12 1279.5,-12 1279.5,-41 1279.5,-41 1279.5,-47 1273.5,-53 1267.5,-53\"/>\n",
       "<text text-anchor=\"start\" x=\"1204\" y=\"-37.8\" font-family=\"Helvetica,sans-Serif\" font-size=\"14.00\" fill=\"#000000\">gini = 0.0</text>\n",
       "<text text-anchor=\"start\" x=\"1194.5\" y=\"-22.8\" font-family=\"Helvetica,sans-Serif\" font-size=\"14.00\" fill=\"#000000\">samples = 1</text>\n",
       "<text text-anchor=\"start\" x=\"1192.5\" y=\"-7.8\" font-family=\"Helvetica,sans-Serif\" font-size=\"14.00\" fill=\"#000000\">value = [1, 0]</text>\n",
       "</g>\n",
       "<!-- 19&#45;&gt;21 -->\n",
       "<g id=\"edge21\" class=\"edge\">\n",
       "<title>19&#45;&gt;21</title>\n",
       "<path fill=\"none\" stroke=\"#000000\" d=\"M1169.846,-88.9777C1179.0466,-79.7292 1189.0092,-69.7147 1198.2069,-60.4691\"/>\n",
       "<polygon fill=\"#000000\" stroke=\"#000000\" points=\"1200.8187,-62.8064 1205.3901,-53.2485 1195.8561,-57.8695 1200.8187,-62.8064\"/>\n",
       "</g>\n",
       "<!-- 23 -->\n",
       "<g id=\"node24\" class=\"node\">\n",
       "<title>23</title>\n",
       "<path fill=\"#92c9f1\" stroke=\"#000000\" d=\"M1478,-157C1478,-157 1362,-157 1362,-157 1356,-157 1350,-151 1350,-145 1350,-145 1350,-101 1350,-101 1350,-95 1356,-89 1362,-89 1362,-89 1478,-89 1478,-89 1484,-89 1490,-95 1490,-101 1490,-101 1490,-145 1490,-145 1490,-151 1484,-157 1478,-157\"/>\n",
       "<text text-anchor=\"start\" x=\"1358\" y=\"-141.8\" font-family=\"Helvetica,sans-Serif\" font-size=\"14.00\" fill=\"#000000\">capital.loss ≤ 1794.0</text>\n",
       "<text text-anchor=\"start\" x=\"1384.5\" y=\"-126.8\" font-family=\"Helvetica,sans-Serif\" font-size=\"14.00\" fill=\"#000000\">gini = 0.429</text>\n",
       "<text text-anchor=\"start\" x=\"1371.5\" y=\"-111.8\" font-family=\"Helvetica,sans-Serif\" font-size=\"14.00\" fill=\"#000000\">samples = 1221</text>\n",
       "<text text-anchor=\"start\" x=\"1365.5\" y=\"-96.8\" font-family=\"Helvetica,sans-Serif\" font-size=\"14.00\" fill=\"#000000\">value = [380, 841]</text>\n",
       "</g>\n",
       "<!-- 22&#45;&gt;23 -->\n",
       "<g id=\"edge23\" class=\"edge\">\n",
       "<title>22&#45;&gt;23</title>\n",
       "<path fill=\"none\" stroke=\"#000000\" d=\"M1420,-192.9465C1420,-184.776 1420,-175.9318 1420,-167.3697\"/>\n",
       "<polygon fill=\"#000000\" stroke=\"#000000\" points=\"1423.5001,-167.13 1420,-157.13 1416.5001,-167.13 1423.5001,-167.13\"/>\n",
       "</g>\n",
       "<!-- 26 -->\n",
       "<g id=\"node27\" class=\"node\">\n",
       "<title>26</title>\n",
       "<path fill=\"#3a9de5\" stroke=\"#000000\" d=\"M1667,-157C1667,-157 1581,-157 1581,-157 1575,-157 1569,-151 1569,-145 1569,-145 1569,-101 1569,-101 1569,-95 1575,-89 1581,-89 1581,-89 1667,-89 1667,-89 1673,-89 1679,-95 1679,-101 1679,-101 1679,-145 1679,-145 1679,-151 1673,-157 1667,-157\"/>\n",
       "<text text-anchor=\"start\" x=\"1591.5\" y=\"-141.8\" font-family=\"Helvetica,sans-Serif\" font-size=\"14.00\" fill=\"#000000\">age ≤ 83.5</text>\n",
       "<text text-anchor=\"start\" x=\"1588.5\" y=\"-126.8\" font-family=\"Helvetica,sans-Serif\" font-size=\"14.00\" fill=\"#000000\">gini = 0.009</text>\n",
       "<text text-anchor=\"start\" x=\"1579\" y=\"-111.8\" font-family=\"Helvetica,sans-Serif\" font-size=\"14.00\" fill=\"#000000\">samples = 219</text>\n",
       "<text text-anchor=\"start\" x=\"1577\" y=\"-96.8\" font-family=\"Helvetica,sans-Serif\" font-size=\"14.00\" fill=\"#000000\">value = [1, 218]</text>\n",
       "</g>\n",
       "<!-- 22&#45;&gt;26 -->\n",
       "<g id=\"edge26\" class=\"edge\">\n",
       "<title>22&#45;&gt;26</title>\n",
       "<path fill=\"none\" stroke=\"#000000\" d=\"M1486.7972,-192.9465C1510.2889,-180.9703 1536.6201,-167.5466 1559.886,-155.6856\"/>\n",
       "<polygon fill=\"#000000\" stroke=\"#000000\" points=\"1561.6559,-158.7119 1568.9753,-151.0518 1558.4765,-152.4756 1561.6559,-158.7119\"/>\n",
       "</g>\n",
       "<!-- 24 -->\n",
       "<g id=\"node25\" class=\"node\">\n",
       "<title>24</title>\n",
       "<path fill=\"#a0d0f3\" stroke=\"#000000\" d=\"M1410.5,-53C1410.5,-53 1309.5,-53 1309.5,-53 1303.5,-53 1297.5,-47 1297.5,-41 1297.5,-41 1297.5,-12 1297.5,-12 1297.5,-6 1303.5,0 1309.5,0 1309.5,0 1410.5,0 1410.5,0 1416.5,0 1422.5,-6 1422.5,-12 1422.5,-12 1422.5,-41 1422.5,-41 1422.5,-47 1416.5,-53 1410.5,-53\"/>\n",
       "<text text-anchor=\"start\" x=\"1328\" y=\"-37.8\" font-family=\"Helvetica,sans-Serif\" font-size=\"14.00\" fill=\"#000000\">gini = 0.45</text>\n",
       "<text text-anchor=\"start\" x=\"1311.5\" y=\"-22.8\" font-family=\"Helvetica,sans-Serif\" font-size=\"14.00\" fill=\"#000000\">samples = 1102</text>\n",
       "<text text-anchor=\"start\" x=\"1305.5\" y=\"-7.8\" font-family=\"Helvetica,sans-Serif\" font-size=\"14.00\" fill=\"#000000\">value = [377, 725]</text>\n",
       "</g>\n",
       "<!-- 23&#45;&gt;24 -->\n",
       "<g id=\"edge24\" class=\"edge\">\n",
       "<title>23&#45;&gt;24</title>\n",
       "<path fill=\"none\" stroke=\"#000000\" d=\"M1398.8462,-88.9777C1393.3805,-80.187 1387.4846,-70.7044 1381.9778,-61.8477\"/>\n",
       "<polygon fill=\"#000000\" stroke=\"#000000\" points=\"1384.8837,-59.8927 1376.6312,-53.2485 1378.9391,-63.5889 1384.8837,-59.8927\"/>\n",
       "</g>\n",
       "<!-- 25 -->\n",
       "<g id=\"node26\" class=\"node\">\n",
       "<title>25</title>\n",
       "<path fill=\"#3ea0e6\" stroke=\"#000000\" d=\"M1539,-53C1539,-53 1453,-53 1453,-53 1447,-53 1441,-47 1441,-41 1441,-41 1441,-12 1441,-12 1441,-6 1447,0 1453,0 1453,0 1539,0 1539,0 1545,0 1551,-6 1551,-12 1551,-12 1551,-41 1551,-41 1551,-47 1545,-53 1539,-53\"/>\n",
       "<text text-anchor=\"start\" x=\"1460.5\" y=\"-37.8\" font-family=\"Helvetica,sans-Serif\" font-size=\"14.00\" fill=\"#000000\">gini = 0.049</text>\n",
       "<text text-anchor=\"start\" x=\"1451\" y=\"-22.8\" font-family=\"Helvetica,sans-Serif\" font-size=\"14.00\" fill=\"#000000\">samples = 119</text>\n",
       "<text text-anchor=\"start\" x=\"1449\" y=\"-7.8\" font-family=\"Helvetica,sans-Serif\" font-size=\"14.00\" fill=\"#000000\">value = [3, 116]</text>\n",
       "</g>\n",
       "<!-- 23&#45;&gt;25 -->\n",
       "<g id=\"edge25\" class=\"edge\">\n",
       "<title>23&#45;&gt;25</title>\n",
       "<path fill=\"none\" stroke=\"#000000\" d=\"M1446.7948,-88.9777C1453.8622,-80.0039 1461.4976,-70.3089 1468.5967,-61.295\"/>\n",
       "<polygon fill=\"#000000\" stroke=\"#000000\" points=\"1471.4963,-63.2701 1474.9338,-53.2485 1465.997,-58.9391 1471.4963,-63.2701\"/>\n",
       "</g>\n",
       "<!-- 27 -->\n",
       "<g id=\"node28\" class=\"node\">\n",
       "<title>27</title>\n",
       "<path fill=\"#399de5\" stroke=\"#000000\" d=\"M1667,-53C1667,-53 1581,-53 1581,-53 1575,-53 1569,-47 1569,-41 1569,-41 1569,-12 1569,-12 1569,-6 1575,0 1581,0 1581,0 1667,0 1667,0 1673,0 1679,-6 1679,-12 1679,-12 1679,-41 1679,-41 1679,-47 1673,-53 1667,-53\"/>\n",
       "<text text-anchor=\"start\" x=\"1596\" y=\"-37.8\" font-family=\"Helvetica,sans-Serif\" font-size=\"14.00\" fill=\"#000000\">gini = 0.0</text>\n",
       "<text text-anchor=\"start\" x=\"1579\" y=\"-22.8\" font-family=\"Helvetica,sans-Serif\" font-size=\"14.00\" fill=\"#000000\">samples = 218</text>\n",
       "<text text-anchor=\"start\" x=\"1577\" y=\"-7.8\" font-family=\"Helvetica,sans-Serif\" font-size=\"14.00\" fill=\"#000000\">value = [0, 218]</text>\n",
       "</g>\n",
       "<!-- 26&#45;&gt;27 -->\n",
       "<g id=\"edge27\" class=\"edge\">\n",
       "<title>26&#45;&gt;27</title>\n",
       "<path fill=\"none\" stroke=\"#000000\" d=\"M1624,-88.9777C1624,-80.7364 1624,-71.887 1624,-63.5153\"/>\n",
       "<polygon fill=\"#000000\" stroke=\"#000000\" points=\"1627.5001,-63.2484 1624,-53.2485 1620.5001,-63.2485 1627.5001,-63.2484\"/>\n",
       "</g>\n",
       "<!-- 28 -->\n",
       "<g id=\"node29\" class=\"node\">\n",
       "<title>28</title>\n",
       "<path fill=\"#e58139\" stroke=\"#000000\" d=\"M1780.5,-53C1780.5,-53 1709.5,-53 1709.5,-53 1703.5,-53 1697.5,-47 1697.5,-41 1697.5,-41 1697.5,-12 1697.5,-12 1697.5,-6 1703.5,0 1709.5,0 1709.5,0 1780.5,0 1780.5,0 1786.5,0 1792.5,-6 1792.5,-12 1792.5,-12 1792.5,-41 1792.5,-41 1792.5,-47 1786.5,-53 1780.5,-53\"/>\n",
       "<text text-anchor=\"start\" x=\"1717\" y=\"-37.8\" font-family=\"Helvetica,sans-Serif\" font-size=\"14.00\" fill=\"#000000\">gini = 0.0</text>\n",
       "<text text-anchor=\"start\" x=\"1707.5\" y=\"-22.8\" font-family=\"Helvetica,sans-Serif\" font-size=\"14.00\" fill=\"#000000\">samples = 1</text>\n",
       "<text text-anchor=\"start\" x=\"1705.5\" y=\"-7.8\" font-family=\"Helvetica,sans-Serif\" font-size=\"14.00\" fill=\"#000000\">value = [1, 0]</text>\n",
       "</g>\n",
       "<!-- 26&#45;&gt;28 -->\n",
       "<g id=\"edge28\" class=\"edge\">\n",
       "<title>26&#45;&gt;28</title>\n",
       "<path fill=\"none\" stroke=\"#000000\" d=\"M1666.6601,-88.9777C1678.6011,-79.4545 1691.5605,-69.1191 1703.437,-59.6473\"/>\n",
       "<polygon fill=\"#000000\" stroke=\"#000000\" points=\"1705.8246,-62.22 1711.4605,-53.2485 1701.46,-56.7473 1705.8246,-62.22\"/>\n",
       "</g>\n",
       "</g>\n",
       "</svg>\n"
      ],
      "text/plain": [
       "<graphviz.files.Source at 0x7f72f73e2c50>"
      ]
     },
     "execution_count": 8,
     "metadata": {},
     "output_type": "execute_result"
    }
   ],
   "source": [
    "tree = DecisionTreeClassifier(max_depth=4)\n",
    "tree.fit(X_train, y_train)\n",
    "\n",
    "dot_data = export_graphviz(tree, out_file=None, \n",
    "                     feature_names=X_train.columns,  \n",
    "#                      class_names=iris.target_names,  \n",
    "                     filled=True, rounded=True,  \n",
    "                     special_characters=True)  \n",
    "graph = graphviz.Source(dot_data)  \n",
    "graph"
   ]
  },
  {
   "cell_type": "markdown",
   "metadata": {},
   "source": [
    "## Bias-variance tradeoff \n"
   ]
  },
  {
   "cell_type": "markdown",
   "metadata": {},
   "source": [
    "Consider `DecisionTreeClassifier(max_depth=)`\n",
    "\n",
    "**Questions**\n",
    "\n",
    "For each `max_depth` $\\in\\{1,\\dots, 15\\}$.\n",
    "\n",
    "1. Train the model on the full training set.\n",
    "2. Save the corresponding training and test errors.\n",
    "3. On a single plot, display the evolution of these errors with respect to `max_depth`.\n",
    "4. Comment on the output plot."
   ]
  },
  {
   "cell_type": "code",
   "execution_count": 13,
   "metadata": {
    "ExecuteTime": {
     "end_time": "2020-03-11T07:35:58.497484Z",
     "start_time": "2020-03-11T07:35:57.891014Z"
    }
   },
   "outputs": [
    {
     "data": {
      "image/png": "[encoded data removed]",
      "text/plain": [
       "<Figure size 432x288 with 1 Axes>"
      ]
     },
     "metadata": {
      "needs_background": "light"
     },
     "output_type": "display_data"
    }
   ],
   "source": [
    "fig, ax = plt.subplots()\n",
    "\n",
    "plt.title('Classication error w.r.t to the maximal depth of the tree')\n",
    "plt.xlabel('max_depth')\n",
    "plt.ylabel('classification error')\n",
    "\n",
    "depths = np.arange(2, 15+1)\n",
    "train_err = np.zeros(depths.size)\n",
    "test_err = np.zeros(depths.size)\n",
    "\n",
    "# tree = DecisionTreeClassifier()\n",
    "for i, dep in enumerate(depths):\n",
    "    \n",
    "    tree = DecisionTreeClassifier(max_depth=dep)\n",
    "#     tree.set_params(**{'max_depth'=dep})\n",
    "    tree.fit(X_train, y_train)\n",
    "    \n",
    "    train_err[i] = 1.0 - tree.score(X_train, y_train)\n",
    "    test_err[i] = 1.0 - tree.score(X_test, y_test)\n",
    "\n",
    "ax.plot(depths, train_err, label='train')\n",
    "ax.plot(depths, test_err, label='test')\n",
    "    \n",
    "plt.legend(loc='best')\n",
    "          \n",
    "plt.show()"
   ]
  },
  {
   "cell_type": "markdown",
   "metadata": {},
   "source": [
    "## Optimization of the classifier with respect to classification error"
   ]
  },
  {
   "cell_type": "markdown",
   "metadata": {},
   "source": [
    "### Preliminary"
   ]
  },
  {
   "cell_type": "markdown",
   "metadata": {},
   "source": [
    "We are going to use the very convenient `GridSearchCV` method to tune our `DecisionTreeClassifier` in order improve our baseline.\n",
    "\n",
    "1. Explain in a few words the purpose of cross validation and how it works.\n",
    "\n",
    "As you should know by now there are many parameters that can be tuned to get better performance.\n",
    "\n",
    "2. Take 3 parameters of the `DecisionTreeClassifier` and give their role.\n",
    "\n"
   ]
  },
  {
   "cell_type": "markdown",
   "metadata": {},
   "source": [
    "### Let's practice"
   ]
  },
  {
   "cell_type": "markdown",
   "metadata": {},
   "source": [
    "Let's start by optimizing `max_depth` alone."
   ]
  },
  {
   "cell_type": "code",
   "execution_count": 19,
   "metadata": {
    "ExecuteTime": {
     "end_time": "2020-03-11T07:39:05.431746Z",
     "start_time": "2020-03-11T07:39:03.451855Z"
    }
   },
   "outputs": [
    {
     "data": {
      "text/plain": [
       "GridSearchCV(cv=5, error_score='raise-deprecating',\n",
       "             estimator=DecisionTreeClassifier(class_weight=None,\n",
       "                                              criterion='gini', max_depth=None,\n",
       "                                              max_features=None,\n",
       "                                              max_leaf_nodes=None,\n",
       "                                              min_impurity_decrease=0.0,\n",
       "                                              min_impurity_split=None,\n",
       "                                              min_samples_leaf=1,\n",
       "                                              min_samples_split=2,\n",
       "                                              min_weight_fraction_leaf=0.0,\n",
       "                                              presort=False, random_state=None,\n",
       "                                              splitter='best'),\n",
       "             iid='warn', n_jobs=None,\n",
       "             param_grid={'max_depth': array([ 3,  4,  5,  6,  7,  8,  9, 10, 11, 12, 13, 14, 15, 16, 17, 18, 19])},\n",
       "             pre_dispatch='2*n_jobs', refit=True, return_train_score=True,\n",
       "             scoring='accuracy', verbose=0)"
      ]
     },
     "execution_count": 19,
     "metadata": {},
     "output_type": "execute_result"
    }
   ],
   "source": [
    "grid = {'max_depth': np.arange(3, 20)}\n",
    "cv = 5\n",
    "scoring_rule = 'accuracy'\n",
    "tree_grid = GridSearchCV(estimator=DecisionTreeClassifier(),\n",
    "                         param_grid=grid,\n",
    "                         cv=cv,\n",
    "                         scoring=scoring_rule,\n",
    "                         return_train_score=True)\n",
    "tree_grid.fit(X_train, y_train)"
   ]
  },
  {
   "cell_type": "markdown",
   "metadata": {},
   "source": [
    "Consider the attribute `tree_grid.cv_results_`\n",
    "\n",
    "1. On the same plot, display the test and train cross-validation errors w.r.t. `max_depth`\n",
    "2. What is the best value of `max_depth` in this case ?\n",
    "3. Visualize the optimized decision tree.\n",
    "4. Comment on these observations.\n",
    "\n",
    "Step up to the next level by tuning multiple parameters at the same time with no extra effort!\n",
    "\n",
    "5. In the same spirit, investigate different parameters and tune them separately.\n",
    "6. Save the resulting classifier as `tree_opti_separate` and compute its error on the test set.\n",
    "7. Use `GridSearchCV` to build the correponding grid of parameters \n",
    "8. Extract the best classifier associated to this grid of parameters and save it as `tree_opti_joint` (have a look at the `best_estimator_` attribute).\n",
    "9. Give its performance on the test set"
   ]
  },
  {
   "cell_type": "code",
   "execution_count": 16,
   "metadata": {
    "ExecuteTime": {
     "end_time": "2020-03-11T07:36:15.227711Z",
     "start_time": "2020-03-11T07:36:15.090284Z"
    }
   },
   "outputs": [
    {
     "data": {
      "image/png": "[encoded data removed]",
      "text/plain": [
       "<Figure size 432x288 with 1 Axes>"
      ]
     },
     "metadata": {
      "needs_background": "light"
     },
     "output_type": "display_data"
    }
   ],
   "source": [
    "train_accuracy = tree_grid.cv_results_['mean_train_score']\n",
    "test_accuracy = tree_grid.cv_results_['mean_test_score']\n",
    "\n",
    "max_depth_range = grid['max_depth']\n",
    "\n",
    "fig, ax = plt.subplots()\n",
    "\n",
    "plt.title('Mean CV error w.r.t. \"max_depth\"')\n",
    "plt.xlabel('max_depth')\n",
    "\n",
    "ax.plot(max_depth_range, 1.0 - train_accuracy, label='cv_train')\n",
    "ax.plot(max_depth_range, 1.0 - test_accuracy, label='cv_test')\n",
    "\n",
    "plt.legend()\n",
    "plt.show()"
   ]
  },
  {
   "cell_type": "markdown",
   "metadata": {},
   "source": [
    "# SVMs"
   ]
  },
  {
   "cell_type": "markdown",
   "metadata": {},
   "source": [
    "**Question**\n",
    "\n",
    "With your own words, answer the following questions\n",
    "1. What is a kernel for you?\n",
    "2. In what context have you already met the kernel defined by $K(x,y)=\\min(x,y)$?\n",
    "3. What to you know about SVMs? (objective function, kernel trick, dual problem...)\n",
    "\n",
    "Next, we turn to the optimization of the SVM.\n",
    "\n",
    "4. Take 3 parameters of `SVC` and give their role.\n",
    "5. Apply the recipe used for `DecisionTreeClassifier` to come up with an optimized SVM classier.\n",
    "\n",
    "**Warning** training a SVM takes time, it scales as $\\mathcal{O}(N^3)$ where $N$ is the number of training examples."
   ]
  },
  {
   "cell_type": "code",
   "execution_count": 18,
   "metadata": {
    "ExecuteTime": {
     "end_time": "2020-03-11T07:39:03.448156Z",
     "start_time": "2020-03-11T07:36:27.678593Z"
    }
   },
   "outputs": [
    {
     "data": {
      "text/plain": [
       "{'mean_fit_time': array([6.45314775, 5.97489977]),\n",
       " 'std_fit_time': array([1.00445543, 0.14583024]),\n",
       " 'mean_score_time': array([1.11876454, 0.97518444]),\n",
       " 'std_score_time': array([0.12210421, 0.01286512]),\n",
       " 'param_C': masked_array(data=[1.0, 1.0],\n",
       "              mask=[False, False],\n",
       "        fill_value='?',\n",
       "             dtype=object),\n",
       " 'param_gamma': masked_array(data=[1.0, 3.0],\n",
       "              mask=[False, False],\n",
       "        fill_value='?',\n",
       "             dtype=object),\n",
       " 'param_kernel': masked_array(data=['rbf', 'rbf'],\n",
       "              mask=[False, False],\n",
       "        fill_value='?',\n",
       "             dtype=object),\n",
       " 'params': [{'C': 1.0, 'gamma': 1.0, 'kernel': 'rbf'},\n",
       "  {'C': 1.0, 'gamma': 3.0, 'kernel': 'rbf'}],\n",
       " 'split0_test_score': array([0.76123047, 0.75830078]),\n",
       " 'split1_test_score': array([0.75830078, 0.75537109]),\n",
       " 'split2_test_score': array([0.75292969, 0.75097656]),\n",
       " 'split3_test_score': array([0.76025391, 0.75878906]),\n",
       " 'split4_test_score': array([0.76160234, 0.75427455]),\n",
       " 'mean_test_score': array([0.75886317, 0.75554253]),\n",
       " 'std_test_score': array([0.0031801 , 0.00285084]),\n",
       " 'rank_test_score': array([1, 2], dtype=int32),\n",
       " 'split0_train_score': array([0.98412892, 0.98730314]),\n",
       " 'split1_train_score': array([0.98559394, 0.98876816]),\n",
       " 'split2_train_score': array([0.98583812, 0.98876816]),\n",
       " 'split3_train_score': array([0.98290807, 0.98608229]),\n",
       " 'split4_train_score': array([0.98376465, 0.98742676]),\n",
       " 'mean_train_score': array([0.98444674, 0.9876697 ]),\n",
       " 'std_train_score': array([0.00111227, 0.00101257])}"
      ]
     },
     "execution_count": 18,
     "metadata": {},
     "output_type": "execute_result"
    }
   ],
   "source": [
    "cv = 5\n",
    "grid = [{'kernel': ['rbf'],\n",
    "         'gamma': [1.0, 3.0],\n",
    "         'C': [1.0]}]\n",
    "svm_gs = GridSearchCV(estimator=SVC(),\n",
    "                       param_grid=grid,\n",
    "                       cv=cv,\n",
    "                       return_train_score=True,\n",
    "                       scoring='accuracy')\n",
    "\n",
    "svm = SVC(kernel='rbf', gamma=1.0, C=1.0)\n",
    "\n",
    "# features = ...\n",
    "svm.fit(X_train, y_train)\n",
    "\n",
    "svm_gs.fit(X_train, y_train)\n",
    "\n",
    "svm_gs.cv_results_"
   ]
  },
  {
   "cell_type": "markdown",
   "metadata": {},
   "source": [
    "# Conclusion"
   ]
  },
  {
   "cell_type": "markdown",
   "metadata": {},
   "source": [
    "- Compare the performance of your optimized classifier to the baselines established in Section 3.\n",
    "\n",
    "- Which classifier would you choose and why ?"
   ]
  }
 ],
 "metadata": {
  "anaconda-cloud": {},
  "kernelspec": {
   "display_name": "Python 3",
   "language": "python",
   "name": "python3"
  },
  "language_info": {
   "codemirror_mode": {
    "name": "ipython",
    "version": 3
   },
   "file_extension": ".py",
   "mimetype": "text/x-python",
   "name": "python",
   "nbconvert_exporter": "python",
   "pygments_lexer": "ipython3",
   "version": "3.7.4"
  },
  "toc": {
   "base_numbering": 1,
   "nav_menu": {
    "height": "426px",
    "width": "252px"
   },
   "number_sections": true,
   "sideBar": true,
   "skip_h1_title": false,
   "title_cell": "Table of Contents",
   "title_sidebar": "Contents",
   "toc_cell": true,
   "toc_position": {
    "height": "579px",
    "left": "0px",
    "right": "1098px",
    "top": "110px",
    "width": "162px"
   },
   "toc_section_display": "block",
   "toc_window_display": true
  }
 },
 "nbformat": 4,
 "nbformat_minor": 2
}
